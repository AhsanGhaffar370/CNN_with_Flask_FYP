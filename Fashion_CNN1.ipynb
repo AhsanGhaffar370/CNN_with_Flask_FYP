{
  "nbformat": 4,
  "nbformat_minor": 0,
  "metadata": {
    "accelerator": "GPU",
    "colab": {
      "name": "Fashion_CNN1.ipynb",
      "provenance": [],
      "collapsed_sections": []
    },
    "kernelspec": {
      "display_name": "Python 3",
      "name": "python3"
    },
    "widgets": {
      "application/vnd.jupyter.widget-state+json": {
        "1bf67519e18f472abeec16840430cc6c": {
          "model_module": "@jupyter-widgets/controls",
          "model_name": "VBoxModel",
          "state": {
            "_view_name": "VBoxView",
            "_dom_classes": [],
            "_model_name": "VBoxModel",
            "_view_module": "@jupyter-widgets/controls",
            "_model_module_version": "1.5.0",
            "_view_count": null,
            "_view_module_version": "1.5.0",
            "box_style": "",
            "layout": "IPY_MODEL_a17cf5a0999f43cb9b44899205764025",
            "_model_module": "@jupyter-widgets/controls",
            "children": [
              "IPY_MODEL_7f78bfe34e0440828fd172fc852a43ab",
              "IPY_MODEL_209c788722bd4edd9923a7093d75d897"
            ]
          }
        },
        "a17cf5a0999f43cb9b44899205764025": {
          "model_module": "@jupyter-widgets/base",
          "model_name": "LayoutModel",
          "state": {
            "_view_name": "LayoutView",
            "grid_template_rows": null,
            "right": null,
            "justify_content": null,
            "_view_module": "@jupyter-widgets/base",
            "overflow": null,
            "_model_module_version": "1.2.0",
            "_view_count": null,
            "flex_flow": null,
            "width": null,
            "min_width": null,
            "border": null,
            "align_items": null,
            "bottom": null,
            "_model_module": "@jupyter-widgets/base",
            "top": null,
            "grid_column": null,
            "overflow_y": null,
            "overflow_x": null,
            "grid_auto_flow": null,
            "grid_area": null,
            "grid_template_columns": null,
            "flex": null,
            "_model_name": "LayoutModel",
            "justify_items": null,
            "grid_row": null,
            "max_height": null,
            "align_content": null,
            "visibility": null,
            "align_self": null,
            "height": null,
            "min_height": null,
            "padding": null,
            "grid_auto_rows": null,
            "grid_gap": null,
            "max_width": null,
            "order": null,
            "_view_module_version": "1.2.0",
            "grid_template_areas": null,
            "object_position": null,
            "object_fit": null,
            "grid_auto_columns": null,
            "margin": null,
            "display": null,
            "left": null
          }
        },
        "7f78bfe34e0440828fd172fc852a43ab": {
          "model_module": "@jupyter-widgets/controls",
          "model_name": "LabelModel",
          "state": {
            "_view_name": "LabelView",
            "style": "IPY_MODEL_148cca43119b44f7b8d9fc64d5f3868b",
            "_dom_classes": [],
            "description": "",
            "_model_name": "LabelModel",
            "placeholder": "​",
            "_view_module": "@jupyter-widgets/controls",
            "_model_module_version": "1.5.0",
            "value": " 5.15MB of 5.15MB uploaded (0.00MB deduped)\r",
            "_view_count": null,
            "_view_module_version": "1.5.0",
            "description_tooltip": null,
            "_model_module": "@jupyter-widgets/controls",
            "layout": "IPY_MODEL_07a280f1103c407bb1bd4c89b24c4f7d"
          }
        },
        "209c788722bd4edd9923a7093d75d897": {
          "model_module": "@jupyter-widgets/controls",
          "model_name": "FloatProgressModel",
          "state": {
            "_view_name": "ProgressView",
            "style": "IPY_MODEL_fae69fa8da20409d874a1f0fc58fce61",
            "_dom_classes": [],
            "description": "",
            "_model_name": "FloatProgressModel",
            "bar_style": "",
            "max": 1,
            "_view_module": "@jupyter-widgets/controls",
            "_model_module_version": "1.5.0",
            "value": 1,
            "_view_count": null,
            "_view_module_version": "1.5.0",
            "orientation": "horizontal",
            "min": 0,
            "description_tooltip": null,
            "_model_module": "@jupyter-widgets/controls",
            "layout": "IPY_MODEL_4ae1fdbd8d3d4f53954f666564715ab2"
          }
        },
        "148cca43119b44f7b8d9fc64d5f3868b": {
          "model_module": "@jupyter-widgets/controls",
          "model_name": "DescriptionStyleModel",
          "state": {
            "_view_name": "StyleView",
            "_model_name": "DescriptionStyleModel",
            "description_width": "",
            "_view_module": "@jupyter-widgets/base",
            "_model_module_version": "1.5.0",
            "_view_count": null,
            "_view_module_version": "1.2.0",
            "_model_module": "@jupyter-widgets/controls"
          }
        },
        "07a280f1103c407bb1bd4c89b24c4f7d": {
          "model_module": "@jupyter-widgets/base",
          "model_name": "LayoutModel",
          "state": {
            "_view_name": "LayoutView",
            "grid_template_rows": null,
            "right": null,
            "justify_content": null,
            "_view_module": "@jupyter-widgets/base",
            "overflow": null,
            "_model_module_version": "1.2.0",
            "_view_count": null,
            "flex_flow": null,
            "width": null,
            "min_width": null,
            "border": null,
            "align_items": null,
            "bottom": null,
            "_model_module": "@jupyter-widgets/base",
            "top": null,
            "grid_column": null,
            "overflow_y": null,
            "overflow_x": null,
            "grid_auto_flow": null,
            "grid_area": null,
            "grid_template_columns": null,
            "flex": null,
            "_model_name": "LayoutModel",
            "justify_items": null,
            "grid_row": null,
            "max_height": null,
            "align_content": null,
            "visibility": null,
            "align_self": null,
            "height": null,
            "min_height": null,
            "padding": null,
            "grid_auto_rows": null,
            "grid_gap": null,
            "max_width": null,
            "order": null,
            "_view_module_version": "1.2.0",
            "grid_template_areas": null,
            "object_position": null,
            "object_fit": null,
            "grid_auto_columns": null,
            "margin": null,
            "display": null,
            "left": null
          }
        },
        "fae69fa8da20409d874a1f0fc58fce61": {
          "model_module": "@jupyter-widgets/controls",
          "model_name": "ProgressStyleModel",
          "state": {
            "_view_name": "StyleView",
            "_model_name": "ProgressStyleModel",
            "description_width": "",
            "_view_module": "@jupyter-widgets/base",
            "_model_module_version": "1.5.0",
            "_view_count": null,
            "_view_module_version": "1.2.0",
            "bar_color": null,
            "_model_module": "@jupyter-widgets/controls"
          }
        },
        "4ae1fdbd8d3d4f53954f666564715ab2": {
          "model_module": "@jupyter-widgets/base",
          "model_name": "LayoutModel",
          "state": {
            "_view_name": "LayoutView",
            "grid_template_rows": null,
            "right": null,
            "justify_content": null,
            "_view_module": "@jupyter-widgets/base",
            "overflow": null,
            "_model_module_version": "1.2.0",
            "_view_count": null,
            "flex_flow": null,
            "width": null,
            "min_width": null,
            "border": null,
            "align_items": null,
            "bottom": null,
            "_model_module": "@jupyter-widgets/base",
            "top": null,
            "grid_column": null,
            "overflow_y": null,
            "overflow_x": null,
            "grid_auto_flow": null,
            "grid_area": null,
            "grid_template_columns": null,
            "flex": null,
            "_model_name": "LayoutModel",
            "justify_items": null,
            "grid_row": null,
            "max_height": null,
            "align_content": null,
            "visibility": null,
            "align_self": null,
            "height": null,
            "min_height": null,
            "padding": null,
            "grid_auto_rows": null,
            "grid_gap": null,
            "max_width": null,
            "order": null,
            "_view_module_version": "1.2.0",
            "grid_template_areas": null,
            "object_position": null,
            "object_fit": null,
            "grid_auto_columns": null,
            "margin": null,
            "display": null,
            "left": null
          }
        }
      }
    }
  },
  "cells": [
    {
      "cell_type": "markdown",
      "metadata": {
        "id": "b55BKD7w08-U"
      },
      "source": [
        "## Import Libraries"
      ]
    },
    {
      "cell_type": "code",
      "metadata": {
        "id": "GDhbKxgPtqhz"
      },
      "source": [
        "import tensorflow as tf\n",
        "import keras\n",
        "from tensorflow.keras.models import Sequential\n",
        "from keras.preprocessing.image import ImageDataGenerator\n",
        "from tensorflow.keras.layers import Dense, Dropout, Activation, Flatten\n",
        "from tensorflow.keras.layers import Conv2D, MaxPooling2D\n",
        "from tensorflow.keras import optimizers\n",
        "\n",
        "# Helper libraries\n",
        "import numpy as np\n",
        "import pandas as pd\n",
        "import matplotlib.pyplot as plt\n",
        "\n",
        "import os\n"
      ],
      "execution_count": null,
      "outputs": []
    },
    {
      "cell_type": "code",
      "metadata": {
        "id": "r0LOYeqMvRI1",
        "colab": {
          "base_uri": "https://localhost:8080/"
        },
        "outputId": "0247a3a3-ccda-48fe-a8f1-0f718a33d1b0"
      },
      "source": [
        "from tensorflow.keras.datasets import fashion_mnist\n",
        "\n",
        "# load dataset\n",
        "(train_images,train_labels),(test_images,test_labels)=fashion_mnist.load_data()"
      ],
      "execution_count": null,
      "outputs": [
        {
          "output_type": "stream",
          "text": [
            "Downloading data from https://storage.googleapis.com/tensorflow/tf-keras-datasets/train-labels-idx1-ubyte.gz\n",
            "32768/29515 [=================================] - 0s 0us/step\n",
            "Downloading data from https://storage.googleapis.com/tensorflow/tf-keras-datasets/train-images-idx3-ubyte.gz\n",
            "26427392/26421880 [==============================] - 0s 0us/step\n",
            "Downloading data from https://storage.googleapis.com/tensorflow/tf-keras-datasets/t10k-labels-idx1-ubyte.gz\n",
            "8192/5148 [===============================================] - 0s 0us/step\n",
            "Downloading data from https://storage.googleapis.com/tensorflow/tf-keras-datasets/t10k-images-idx3-ubyte.gz\n",
            "4423680/4422102 [==============================] - 0s 0us/step\n"
          ],
          "name": "stdout"
        }
      ]
    },
    {
      "cell_type": "markdown",
      "metadata": {
        "id": "MNbyshE31UJB"
      },
      "source": [
        "# Explore Date"
      ]
    },
    {
      "cell_type": "code",
      "metadata": {
        "id": "vzhiSpSY1K1a"
      },
      "source": [
        "# Let's explore the format of the dataset before training the model. The following shows there are 60,000 images in\n",
        "# the training set, with each image represented as 28 x 28 pixels:"
      ],
      "execution_count": null,
      "outputs": []
    },
    {
      "cell_type": "code",
      "metadata": {
        "colab": {
          "base_uri": "https://localhost:8080/"
        },
        "id": "c8ii3EHG1XoY",
        "outputId": "ca263b95-44e3-41fc-d977-e992d91c7f3c"
      },
      "source": [
        "print(train_images.ndim)\n",
        "print(train_labels.ndim)"
      ],
      "execution_count": null,
      "outputs": [
        {
          "output_type": "stream",
          "text": [
            "3\n",
            "1\n"
          ],
          "name": "stdout"
        }
      ]
    },
    {
      "cell_type": "code",
      "metadata": {
        "colab": {
          "base_uri": "https://localhost:8080/"
        },
        "id": "-YKPr11S1Y2Y",
        "outputId": "70df7a5f-a027-4d65-9eb5-f861f69d67b8"
      },
      "source": [
        "print(train_images.shape)\n",
        "print(train_labels.shape)"
      ],
      "execution_count": null,
      "outputs": [
        {
          "output_type": "stream",
          "text": [
            "(60000, 28, 28)\n",
            "(60000,)\n"
          ],
          "name": "stdout"
        }
      ]
    },
    {
      "cell_type": "code",
      "metadata": {
        "colab": {
          "base_uri": "https://localhost:8080/"
        },
        "id": "q3pu6YJr1aUY",
        "outputId": "13e5f4fb-cf7c-4ce4-f673-491030791ede"
      },
      "source": [
        "print(train_images.shape)\n",
        "print(test_labels.shape)"
      ],
      "execution_count": null,
      "outputs": [
        {
          "output_type": "stream",
          "text": [
            "(60000, 28, 28)\n",
            "(10000,)\n"
          ],
          "name": "stdout"
        }
      ]
    },
    {
      "cell_type": "code",
      "metadata": {
        "colab": {
          "base_uri": "https://localhost:8080/"
        },
        "id": "lmlcJ88_1bn3",
        "outputId": "22b7834f-51c9-45c0-cdfb-837335db0278"
      },
      "source": [
        "train_labels ## There are 10 classes "
      ],
      "execution_count": null,
      "outputs": [
        {
          "output_type": "execute_result",
          "data": {
            "text/plain": [
              "array([9, 0, 0, ..., 3, 0, 5], dtype=uint8)"
            ]
          },
          "metadata": {
            "tags": []
          },
          "execution_count": 9
        }
      ]
    },
    {
      "cell_type": "code",
      "metadata": {
        "colab": {
          "base_uri": "https://localhost:8080/"
        },
        "id": "ikM34TRe1dLn",
        "outputId": "5c49334e-ac96-4f4b-84d4-db4df25369c4"
      },
      "source": [
        "total_train=len(train_labels)\n",
        "print(\"Total Train records: \",total_train)\n",
        "\n",
        "total_test=len(test_labels)\n",
        "print(\"Total Test records: \",total_test)\n",
        "\n",
        "total= len(test_labels)+len(train_labels)\n",
        "print(\"Total records: \",total)\n",
        "\n",
        "train_perc= (total_train * 100)/total\n",
        "print(\"Train records percentage: \",train_perc)\n",
        "\n",
        "test_perc= (total_test * 100)/total\n",
        "print(\"Test records percentage: \",test_perc)\n",
        "\n",
        "print(train_perc+test_perc)"
      ],
      "execution_count": null,
      "outputs": [
        {
          "output_type": "stream",
          "text": [
            "Total Train records:  60000\n",
            "Total Test records:  10000\n",
            "Total records:  70000\n",
            "Train records percentage:  85.71428571428571\n",
            "Test records percentage:  14.285714285714286\n",
            "100.0\n"
          ],
          "name": "stdout"
        }
      ]
    },
    {
      "cell_type": "code",
      "metadata": {
        "colab": {
          "base_uri": "https://localhost:8080/",
          "height": 265
        },
        "id": "hQVXwG9r1emn",
        "outputId": "af5a849a-3e80-45a8-c746-e1c654e56681"
      },
      "source": [
        "plt.figure()\n",
        "plt.imshow(train_images[0])\n",
        "plt.colorbar()\n",
        "plt.show()"
      ],
      "execution_count": null,
      "outputs": [
        {
          "output_type": "display_data",
          "data": {
            "image/png": "[encoded data removed]",
            "text/plain": [
              "<Figure size 432x288 with 2 Axes>"
            ]
          },
          "metadata": {
            "tags": [],
            "needs_background": "light"
          }
        }
      ]
    },
    {
      "cell_type": "code",
      "metadata": {
        "colab": {
          "base_uri": "https://localhost:8080/",
          "height": 589
        },
        "id": "Rtk7YFga1gLI",
        "outputId": "417cd022-d86b-494f-bed9-8846081ee51b"
      },
      "source": [
        "class_names = ['T-shirt/top', 'Trouser', 'Pullover', 'Dress', 'Coat',\n",
        "               'Sandal', 'Shirt', 'Sneaker', 'Bag', 'Ankle boot']\n",
        "\n",
        "plt.figure(figsize=(10,10))\n",
        "for i in range(25):\n",
        "    plt.subplot(5,5,i+1)\n",
        "    plt.xticks([])\n",
        "    plt.yticks([])\n",
        "    plt.grid(False)\n",
        "    plt.imshow(train_images[i], cmap=plt.cm.binary)\n",
        "    plt.xlabel(class_names[train_labels[i]])\n",
        "plt.show()"
      ],
      "execution_count": null,
      "outputs": [
        {
          "output_type": "display_data",
          "data": {
            "image/png": "[encoded data removed]",
            "text/plain": [
              "<Figure size 720x720 with 25 Axes>"
            ]
          },
          "metadata": {
            "tags": []
          }
        }
      ]
    },
    {
      "cell_type": "markdown",
      "metadata": {
        "id": "EbCI3YtT1jrf"
      },
      "source": [
        "# Data Preparation"
      ]
    },
    {
      "cell_type": "code",
      "metadata": {
        "id": "CME9oPxA1hfI"
      },
      "source": [
        "# You can’t feed lists of integers into a neural network. You have to turn your lists into tensors. \n",
        "# There are two ways to do that:\n",
        "    \n",
        "#  Pad your lists so that they all have same length, turn them into integer tensor of \n",
        "#    shape (samples, word_indices).\n",
        "#  One-hot encode your lists to turn them into vectors of 0s and 1s. This would mean, for instance, \n",
        "#    turning the sequence [3, 5] into a 10,000-dimensional vector that would be all 0s except for \n",
        "#    indices 3 and 5, which would be 1s."
      ],
      "execution_count": null,
      "outputs": []
    },
    {
      "cell_type": "code",
      "metadata": {
        "id": "kraokVEK1mqn"
      },
      "source": [
        "##################################\n",
        "# 1st step of data preaparation: #\n",
        "##################################\n",
        "\n",
        "# reshape dataset to have a single channel (Preparing Images)\n",
        "\n",
        "# train_images = train_images.reshape((train_images.shape[0], 28, 28, 1))\n",
        "# test_images = test_images.reshape((test_images.shape[0], 28, 28, 1))"
      ],
      "execution_count": null,
      "outputs": []
    },
    {
      "cell_type": "code",
      "metadata": {
        "id": "AwvLSCQY1n7J"
      },
      "source": [
        "##################################\n",
        "# 2nd step of data preaparation: #\n",
        "##################################\n",
        "\n",
        "# one hot encode target values (Preparing Labels)\n",
        "\n",
        "# We need to categorically encode the labels,\n",
        "# from tensorflow.keras.utils import to_categorical\n",
        "\n",
        "# train_labels = to_categorical(train_labels)\n",
        "# test_labels = to_categorical(test_labels)"
      ],
      "execution_count": null,
      "outputs": []
    },
    {
      "cell_type": "code",
      "metadata": {
        "id": "2u6Z5u5q1pEX"
      },
      "source": [
        "##################################\n",
        "# 3rd step of data preaparation: #\n",
        "##################################\n",
        "\n",
        "# Create data in Pixel format Using Normalization:\n",
        "# We know that the pixel values for each image in the dataset are unsigned integers in the range \n",
        "# between black and white, or 0 and 255.\n",
        "# We do not know the best way to scale the pixel values for modeling, but we know that some scaling will be required.\n",
        "# A good starting point is to normalize the pixel values of grayscale images, e.g. rescale them to the range [0,1]. \n",
        "# This involves first converting the data type from unsigned integers to floats, then dividing the pixel values by \n",
        "# the maximum value.\n",
        "\n",
        "# scale pixels\n",
        "\n",
        "# # convert from integers to floats\n",
        "# train_norm = train.astype('float32')\n",
        "# test_norm = test.astype('float32')\n",
        "# # normalize to range 0-1\n",
        "# train_norm = train_norm / 255.0\n",
        "# test_norm = test_norm / 255.0"
      ],
      "execution_count": null,
      "outputs": []
    },
    {
      "cell_type": "code",
      "metadata": {
        "id": "3Z31JymC1qVH"
      },
      "source": [
        "# # # Reshaping and encoding of train and test data\n",
        "\n",
        "from tensorflow.keras.utils import to_categorical\n",
        "\n",
        "def reshape_encode():\n",
        "    # load dataset\n",
        "    (train_images, train_labels), (test_images, test_labels) = fashion_mnist.load_data()\n",
        "#   (train_images, train_labels), (test_images, test_labels) = fashion_mnist.load_data()\n",
        "    \n",
        "    ######## 1st step ####### \n",
        "    # reshape dataset to have a single channel\n",
        "    train_images = train_images.reshape((train_images.shape[0], 28, 28, 1)) # train_images.shape[0]= 60000\n",
        "    test_images = test_images.reshape((test_images.shape[0], 28, 28, 1))    # test_images.shape[0]= 10000\n",
        "    \n",
        "    ######## 2nd step #######\n",
        "    # one hot encode target values\n",
        "    train_labels = to_categorical(train_labels)\n",
        "    test_labels = to_categorical(test_labels)\n",
        "    \n",
        "    return train_images, train_labels, test_images, test_labels"
      ],
      "execution_count": null,
      "outputs": []
    },
    {
      "cell_type": "code",
      "metadata": {
        "id": "1CBSdJAz1sNn"
      },
      "source": [
        "# scale pixels\n",
        "def prep_pixels(train, test):\n",
        "    \n",
        "    ######## 3rd step #######\n",
        "    \n",
        "    # convert from integers to floats\n",
        "    train_norm = train.astype('float32')\n",
        "    test_norm = test.astype('float32')\n",
        "    # normalize to range 0-1\n",
        "    train_norm = train_norm / 255.0\n",
        "    test_norm = test_norm / 255.0\n",
        "    \n",
        "    # return normalized images\n",
        "    return train_norm, test_norm"
      ],
      "execution_count": null,
      "outputs": []
    },
    {
      "cell_type": "code",
      "metadata": {
        "id": "Ot524jyk1uSH"
      },
      "source": [
        "# Reshaping and encoding of train and test data\n",
        "train_images, train_labels, test_images, test_labels = reshape_encode()\n",
        "\n",
        "# prepare pixel data\n",
        "train_images, test_images = prep_pixels(train_images, test_images)"
      ],
      "execution_count": null,
      "outputs": []
    },
    {
      "cell_type": "markdown",
      "metadata": {
        "id": "WKlEellZ1yVv"
      },
      "source": [
        "# The network architecture (Create Model)"
      ]
    },
    {
      "cell_type": "markdown",
      "metadata": {
        "id": "nPasJEsX13cB"
      },
      "source": [
        "## Find Best Model using keras_tuner library"
      ]
    },
    {
      "cell_type": "code",
      "metadata": {
        "colab": {
          "base_uri": "https://localhost:8080/"
        },
        "id": "C0J5GSg82glG",
        "outputId": "2e261caa-3587-4f1c-db11-0cdfa4832337"
      },
      "source": [
        "!pip install keras-tuner"
      ],
      "execution_count": null,
      "outputs": [
        {
          "output_type": "stream",
          "text": [
            "Collecting keras-tuner\n",
            "\u001b[?25l  Downloading https://files.pythonhosted.org/packages/20/ec/1ef246787174b1e2bb591c95f29d3c1310070cad877824f907faba3dade9/keras-tuner-1.0.2.tar.gz (62kB)\n",
            "\r\u001b[K     |█████▏                          | 10kB 20.8MB/s eta 0:00:01\r\u001b[K     |██████████▍                     | 20kB 18.6MB/s eta 0:00:01\r\u001b[K     |███████████████▋                | 30kB 15.7MB/s eta 0:00:01\r\u001b[K     |████████████████████▉           | 40kB 15.2MB/s eta 0:00:01\r\u001b[K     |██████████████████████████      | 51kB 12.3MB/s eta 0:00:01\r\u001b[K     |███████████████████████████████▎| 61kB 12.8MB/s eta 0:00:01\r\u001b[K     |████████████████████████████████| 71kB 7.0MB/s \n",
            "\u001b[?25hRequirement already satisfied: packaging in /usr/local/lib/python3.6/dist-packages (from keras-tuner) (20.7)\n",
            "Requirement already satisfied: future in /usr/local/lib/python3.6/dist-packages (from keras-tuner) (0.16.0)\n",
            "Requirement already satisfied: numpy in /usr/local/lib/python3.6/dist-packages (from keras-tuner) (1.18.5)\n",
            "Requirement already satisfied: tabulate in /usr/local/lib/python3.6/dist-packages (from keras-tuner) (0.8.7)\n",
            "Collecting terminaltables\n",
            "  Downloading https://files.pythonhosted.org/packages/9b/c4/4a21174f32f8a7e1104798c445dacdc1d4df86f2f26722767034e4de4bff/terminaltables-3.1.0.tar.gz\n",
            "Collecting colorama\n",
            "  Downloading https://files.pythonhosted.org/packages/44/98/5b86278fbbf250d239ae0ecb724f8572af1c91f4a11edf4d36a206189440/colorama-0.4.4-py2.py3-none-any.whl\n",
            "Requirement already satisfied: tqdm in /usr/local/lib/python3.6/dist-packages (from keras-tuner) (4.41.1)\n",
            "Requirement already satisfied: requests in /usr/local/lib/python3.6/dist-packages (from keras-tuner) (2.23.0)\n",
            "Requirement already satisfied: scipy in /usr/local/lib/python3.6/dist-packages (from keras-tuner) (1.4.1)\n",
            "Requirement already satisfied: scikit-learn in /usr/local/lib/python3.6/dist-packages (from keras-tuner) (0.22.2.post1)\n",
            "Requirement already satisfied: pyparsing>=2.0.2 in /usr/local/lib/python3.6/dist-packages (from packaging->keras-tuner) (2.4.7)\n",
            "Requirement already satisfied: certifi>=2017.4.17 in /usr/local/lib/python3.6/dist-packages (from requests->keras-tuner) (2020.12.5)\n",
            "Requirement already satisfied: chardet<4,>=3.0.2 in /usr/local/lib/python3.6/dist-packages (from requests->keras-tuner) (3.0.4)\n",
            "Requirement already satisfied: idna<3,>=2.5 in /usr/local/lib/python3.6/dist-packages (from requests->keras-tuner) (2.10)\n",
            "Requirement already satisfied: urllib3!=1.25.0,!=1.25.1,<1.26,>=1.21.1 in /usr/local/lib/python3.6/dist-packages (from requests->keras-tuner) (1.24.3)\n",
            "Requirement already satisfied: joblib>=0.11 in /usr/local/lib/python3.6/dist-packages (from scikit-learn->keras-tuner) (0.17.0)\n",
            "Building wheels for collected packages: keras-tuner, terminaltables\n",
            "  Building wheel for keras-tuner (setup.py) ... \u001b[?25l\u001b[?25hdone\n",
            "  Created wheel for keras-tuner: filename=keras_tuner-1.0.2-cp36-none-any.whl size=78939 sha256=90c1a2d4bfcb3c270b1f00530625142b8758fb1229559835555968ad75cf99d4\n",
            "  Stored in directory: /root/.cache/pip/wheels/bb/a1/8a/7c3de0efb3707a1701b36ebbfdbc4e67aedf6d4943a1f463d6\n",
            "  Building wheel for terminaltables (setup.py) ... \u001b[?25l\u001b[?25hdone\n",
            "  Created wheel for terminaltables: filename=terminaltables-3.1.0-cp36-none-any.whl size=15357 sha256=4b06183d4cb3d2f65db79c71932fa64dad5c0a18973fd31a43f4f624cd24951a\n",
            "  Stored in directory: /root/.cache/pip/wheels/30/6b/50/6c75775b681fb36cdfac7f19799888ef9d8813aff9e379663e\n",
            "Successfully built keras-tuner terminaltables\n",
            "Installing collected packages: terminaltables, colorama, keras-tuner\n",
            "Successfully installed colorama-0.4.4 keras-tuner-1.0.2 terminaltables-3.1.0\n"
          ],
          "name": "stdout"
        }
      ]
    },
    {
      "cell_type": "code",
      "metadata": {
        "id": "poaCs7XO1003"
      },
      "source": [
        "def build_model(hp): \n",
        "  \n",
        "  model = Sequential()\n",
        "  # Must define the input shape in the first layer of the neural network\n",
        "  model.add(Conv2D(filters=hp.Int('conv_0_filter', min_value=32, max_value=128, step=16), \n",
        "                  kernel_size=hp.Choice('conv_0_kernel', values = [3,5]), \n",
        "                  activation='relu', \n",
        "                  input_shape=(28,28,1))) \n",
        "  # model.add(MaxPooling2D(pool_size=(2,2)))\n",
        "  model.add(Dropout(rate=hp.Float('dropout_0',min_value=0.0,max_value=0.5,default=0.25,step=0.05,)))\n",
        "\n",
        "  for i in range(hp.Int('num_layers', 2, 6)):\n",
        "    model.add(Conv2D(filters=hp.Int(f'conv_{i+1}_filter', min_value=32, max_value=128, step=16), \n",
        "                    kernel_size=hp.Choice(f'conv_{i+1}_kernel', values = [3,5]), \n",
        "                    activation='relu'\n",
        "                    ) \n",
        "    )\n",
        "    model.add(Dropout(rate=hp.Float(f'dropout_{i+1}',min_value=0.0,max_value=0.5,default=0.25,step=0.05,)))\n",
        "\n",
        "  model.add(Flatten())\n",
        "  model.add(Dense(64, activation='relu'))\n",
        "  model.add(Dropout(rate=hp.Float(f'dropout_last',min_value=0.0,max_value=0.5,default=0.25,step=0.05,)))\n",
        "  model.add(Dense(10, activation='softmax'))\n",
        "\n",
        "  model.compile(optimizer=optimizers.Adam(hp.Choice('learning_rate', values=[1e-2, 1e-3, 1e-4])),\n",
        "                loss='categorical_crossentropy',\n",
        "                metrics=['accuracy'])\n",
        "      \n",
        "  return model"
      ],
      "execution_count": null,
      "outputs": []
    },
    {
      "cell_type": "code",
      "metadata": {
        "id": "67PdaulU15YY"
      },
      "source": [
        "from kerastuner import RandomSearch\n",
        "from kerastuner.engine.hyperparameters import HyperParameters"
      ],
      "execution_count": null,
      "outputs": []
    },
    {
      "cell_type": "code",
      "metadata": {
        "id": "wSc1fuDr166X"
      },
      "source": [
        "tuner_search=RandomSearch(build_model, # our function\n",
        "                          objective='val_accuracy', # our objective is to improve val accuracy\n",
        "                          max_trials=5, # the total number of trials to test\n",
        "                          executions_per_trial=1, # the number of models that should be built and fit for each trial\n",
        "                          directory='output', \n",
        "                          project_name=\"Mnist Fashion\"\n",
        "                          )\n"
      ],
      "execution_count": null,
      "outputs": []
    },
    {
      "cell_type": "code",
      "metadata": {
        "colab": {
          "base_uri": "https://localhost:8080/",
          "height": 1000
        },
        "id": "JCNBBDpT7Dlg",
        "outputId": "37eb1f0f-da12-446d-e14b-c2334d85351a"
      },
      "source": [
        "tuner_search.search_space_summary()"
      ],
      "execution_count": null,
      "outputs": [
        {
          "output_type": "display_data",
          "data": {
            "text/html": [
              "<span style=\"color:#4527A0\"><h1 style=\"font-size:18px\">Search space summary</h1></span>"
            ],
            "text/plain": [
              "<IPython.core.display.HTML object>"
            ]
          },
          "metadata": {
            "tags": []
          }
        },
        {
          "output_type": "display_data",
          "data": {
            "text/html": [
              "<span style=\"color:cyan\"> |-Default search space size: 12</span>"
            ],
            "text/plain": [
              "<IPython.core.display.HTML object>"
            ]
          },
          "metadata": {
            "tags": []
          }
        },
        {
          "output_type": "display_data",
          "data": {
            "text/html": [
              "<span style=\"color:#7E57C2\"><h2 style=\"font-size:16px\">conv_0_filter (Int)</h2></span>"
            ],
            "text/plain": [
              "<IPython.core.display.HTML object>"
            ]
          },
          "metadata": {
            "tags": []
          }
        },
        {
          "output_type": "display_data",
          "data": {
            "text/html": [
              "<span style=\"color:cyan\"> |-default: None</span>"
            ],
            "text/plain": [
              "<IPython.core.display.HTML object>"
            ]
          },
          "metadata": {
            "tags": []
          }
        },
        {
          "output_type": "display_data",
          "data": {
            "text/html": [
              "<span style=\"color:blue\"> |-max_value: 128</span>"
            ],
            "text/plain": [
              "<IPython.core.display.HTML object>"
            ]
          },
          "metadata": {
            "tags": []
          }
        },
        {
          "output_type": "display_data",
          "data": {
            "text/html": [
              "<span style=\"color:cyan\"> |-min_value: 32</span>"
            ],
            "text/plain": [
              "<IPython.core.display.HTML object>"
            ]
          },
          "metadata": {
            "tags": []
          }
        },
        {
          "output_type": "display_data",
          "data": {
            "text/html": [
              "<span style=\"color:blue\"> |-sampling: None</span>"
            ],
            "text/plain": [
              "<IPython.core.display.HTML object>"
            ]
          },
          "metadata": {
            "tags": []
          }
        },
        {
          "output_type": "display_data",
          "data": {
            "text/html": [
              "<span style=\"color:cyan\"> |-step: 16</span>"
            ],
            "text/plain": [
              "<IPython.core.display.HTML object>"
            ]
          },
          "metadata": {
            "tags": []
          }
        },
        {
          "output_type": "display_data",
          "data": {
            "text/html": [
              "<span style=\"color:#7E57C2\"><h2 style=\"font-size:16px\">conv_0_kernel (Choice)</h2></span>"
            ],
            "text/plain": [
              "<IPython.core.display.HTML object>"
            ]
          },
          "metadata": {
            "tags": []
          }
        },
        {
          "output_type": "display_data",
          "data": {
            "text/html": [
              "<span style=\"color:cyan\"> |-default: 3</span>"
            ],
            "text/plain": [
              "<IPython.core.display.HTML object>"
            ]
          },
          "metadata": {
            "tags": []
          }
        },
        {
          "output_type": "display_data",
          "data": {
            "text/html": [
              "<span style=\"color:blue\"> |-ordered: True</span>"
            ],
            "text/plain": [
              "<IPython.core.display.HTML object>"
            ]
          },
          "metadata": {
            "tags": []
          }
        },
        {
          "output_type": "display_data",
          "data": {
            "text/html": [
              "<span style=\"color:cyan\"> |-values: [3, 5]</span>"
            ],
            "text/plain": [
              "<IPython.core.display.HTML object>"
            ]
          },
          "metadata": {
            "tags": []
          }
        },
        {
          "output_type": "display_data",
          "data": {
            "text/html": [
              "<span style=\"color:#7E57C2\"><h2 style=\"font-size:16px\">dropout_0 (Float)</h2></span>"
            ],
            "text/plain": [
              "<IPython.core.display.HTML object>"
            ]
          },
          "metadata": {
            "tags": []
          }
        },
        {
          "output_type": "display_data",
          "data": {
            "text/html": [
              "<span style=\"color:cyan\"> |-default: 0.25</span>"
            ],
            "text/plain": [
              "<IPython.core.display.HTML object>"
            ]
          },
          "metadata": {
            "tags": []
          }
        },
        {
          "output_type": "display_data",
          "data": {
            "text/html": [
              "<span style=\"color:blue\"> |-max_value: 0.5</span>"
            ],
            "text/plain": [
              "<IPython.core.display.HTML object>"
            ]
          },
          "metadata": {
            "tags": []
          }
        },
        {
          "output_type": "display_data",
          "data": {
            "text/html": [
              "<span style=\"color:cyan\"> |-min_value: 0.0</span>"
            ],
            "text/plain": [
              "<IPython.core.display.HTML object>"
            ]
          },
          "metadata": {
            "tags": []
          }
        },
        {
          "output_type": "display_data",
          "data": {
            "text/html": [
              "<span style=\"color:blue\"> |-sampling: None</span>"
            ],
            "text/plain": [
              "<IPython.core.display.HTML object>"
            ]
          },
          "metadata": {
            "tags": []
          }
        },
        {
          "output_type": "display_data",
          "data": {
            "text/html": [
              "<span style=\"color:cyan\"> |-step: 0.05</span>"
            ],
            "text/plain": [
              "<IPython.core.display.HTML object>"
            ]
          },
          "metadata": {
            "tags": []
          }
        },
        {
          "output_type": "display_data",
          "data": {
            "text/html": [
              "<span style=\"color:#7E57C2\"><h2 style=\"font-size:16px\">num_layers (Int)</h2></span>"
            ],
            "text/plain": [
              "<IPython.core.display.HTML object>"
            ]
          },
          "metadata": {
            "tags": []
          }
        },
        {
          "output_type": "display_data",
          "data": {
            "text/html": [
              "<span style=\"color:cyan\"> |-default: None</span>"
            ],
            "text/plain": [
              "<IPython.core.display.HTML object>"
            ]
          },
          "metadata": {
            "tags": []
          }
        },
        {
          "output_type": "display_data",
          "data": {
            "text/html": [
              "<span style=\"color:blue\"> |-max_value: 6</span>"
            ],
            "text/plain": [
              "<IPython.core.display.HTML object>"
            ]
          },
          "metadata": {
            "tags": []
          }
        },
        {
          "output_type": "display_data",
          "data": {
            "text/html": [
              "<span style=\"color:cyan\"> |-min_value: 2</span>"
            ],
            "text/plain": [
              "<IPython.core.display.HTML object>"
            ]
          },
          "metadata": {
            "tags": []
          }
        },
        {
          "output_type": "display_data",
          "data": {
            "text/html": [
              "<span style=\"color:blue\"> |-sampling: None</span>"
            ],
            "text/plain": [
              "<IPython.core.display.HTML object>"
            ]
          },
          "metadata": {
            "tags": []
          }
        },
        {
          "output_type": "display_data",
          "data": {
            "text/html": [
              "<span style=\"color:cyan\"> |-step: 1</span>"
            ],
            "text/plain": [
              "<IPython.core.display.HTML object>"
            ]
          },
          "metadata": {
            "tags": []
          }
        },
        {
          "output_type": "display_data",
          "data": {
            "text/html": [
              "<span style=\"color:#7E57C2\"><h2 style=\"font-size:16px\">conv_1_filter (Int)</h2></span>"
            ],
            "text/plain": [
              "<IPython.core.display.HTML object>"
            ]
          },
          "metadata": {
            "tags": []
          }
        },
        {
          "output_type": "display_data",
          "data": {
            "text/html": [
              "<span style=\"color:cyan\"> |-default: None</span>"
            ],
            "text/plain": [
              "<IPython.core.display.HTML object>"
            ]
          },
          "metadata": {
            "tags": []
          }
        },
        {
          "output_type": "display_data",
          "data": {
            "text/html": [
              "<span style=\"color:blue\"> |-max_value: 128</span>"
            ],
            "text/plain": [
              "<IPython.core.display.HTML object>"
            ]
          },
          "metadata": {
            "tags": []
          }
        },
        {
          "output_type": "display_data",
          "data": {
            "text/html": [
              "<span style=\"color:cyan\"> |-min_value: 32</span>"
            ],
            "text/plain": [
              "<IPython.core.display.HTML object>"
            ]
          },
          "metadata": {
            "tags": []
          }
        },
        {
          "output_type": "display_data",
          "data": {
            "text/html": [
              "<span style=\"color:blue\"> |-sampling: None</span>"
            ],
            "text/plain": [
              "<IPython.core.display.HTML object>"
            ]
          },
          "metadata": {
            "tags": []
          }
        },
        {
          "output_type": "display_data",
          "data": {
            "text/html": [
              "<span style=\"color:cyan\"> |-step: 16</span>"
            ],
            "text/plain": [
              "<IPython.core.display.HTML object>"
            ]
          },
          "metadata": {
            "tags": []
          }
        },
        {
          "output_type": "display_data",
          "data": {
            "text/html": [
              "<span style=\"color:#7E57C2\"><h2 style=\"font-size:16px\">conv_1_kernel (Choice)</h2></span>"
            ],
            "text/plain": [
              "<IPython.core.display.HTML object>"
            ]
          },
          "metadata": {
            "tags": []
          }
        },
        {
          "output_type": "display_data",
          "data": {
            "text/html": [
              "<span style=\"color:cyan\"> |-default: 3</span>"
            ],
            "text/plain": [
              "<IPython.core.display.HTML object>"
            ]
          },
          "metadata": {
            "tags": []
          }
        },
        {
          "output_type": "display_data",
          "data": {
            "text/html": [
              "<span style=\"color:blue\"> |-ordered: True</span>"
            ],
            "text/plain": [
              "<IPython.core.display.HTML object>"
            ]
          },
          "metadata": {
            "tags": []
          }
        },
        {
          "output_type": "display_data",
          "data": {
            "text/html": [
              "<span style=\"color:cyan\"> |-values: [3, 5]</span>"
            ],
            "text/plain": [
              "<IPython.core.display.HTML object>"
            ]
          },
          "metadata": {
            "tags": []
          }
        },
        {
          "output_type": "display_data",
          "data": {
            "text/html": [
              "<span style=\"color:#7E57C2\"><h2 style=\"font-size:16px\">dropout_1 (Float)</h2></span>"
            ],
            "text/plain": [
              "<IPython.core.display.HTML object>"
            ]
          },
          "metadata": {
            "tags": []
          }
        },
        {
          "output_type": "display_data",
          "data": {
            "text/html": [
              "<span style=\"color:cyan\"> |-default: 0.25</span>"
            ],
            "text/plain": [
              "<IPython.core.display.HTML object>"
            ]
          },
          "metadata": {
            "tags": []
          }
        },
        {
          "output_type": "display_data",
          "data": {
            "text/html": [
              "<span style=\"color:blue\"> |-max_value: 0.5</span>"
            ],
            "text/plain": [
              "<IPython.core.display.HTML object>"
            ]
          },
          "metadata": {
            "tags": []
          }
        },
        {
          "output_type": "display_data",
          "data": {
            "text/html": [
              "<span style=\"color:cyan\"> |-min_value: 0.0</span>"
            ],
            "text/plain": [
              "<IPython.core.display.HTML object>"
            ]
          },
          "metadata": {
            "tags": []
          }
        },
        {
          "output_type": "display_data",
          "data": {
            "text/html": [
              "<span style=\"color:blue\"> |-sampling: None</span>"
            ],
            "text/plain": [
              "<IPython.core.display.HTML object>"
            ]
          },
          "metadata": {
            "tags": []
          }
        },
        {
          "output_type": "display_data",
          "data": {
            "text/html": [
              "<span style=\"color:cyan\"> |-step: 0.05</span>"
            ],
            "text/plain": [
              "<IPython.core.display.HTML object>"
            ]
          },
          "metadata": {
            "tags": []
          }
        },
        {
          "output_type": "display_data",
          "data": {
            "text/html": [
              "<span style=\"color:#7E57C2\"><h2 style=\"font-size:16px\">conv_2_filter (Int)</h2></span>"
            ],
            "text/plain": [
              "<IPython.core.display.HTML object>"
            ]
          },
          "metadata": {
            "tags": []
          }
        },
        {
          "output_type": "display_data",
          "data": {
            "text/html": [
              "<span style=\"color:cyan\"> |-default: None</span>"
            ],
            "text/plain": [
              "<IPython.core.display.HTML object>"
            ]
          },
          "metadata": {
            "tags": []
          }
        },
        {
          "output_type": "display_data",
          "data": {
            "text/html": [
              "<span style=\"color:blue\"> |-max_value: 128</span>"
            ],
            "text/plain": [
              "<IPython.core.display.HTML object>"
            ]
          },
          "metadata": {
            "tags": []
          }
        },
        {
          "output_type": "display_data",
          "data": {
            "text/html": [
              "<span style=\"color:cyan\"> |-min_value: 32</span>"
            ],
            "text/plain": [
              "<IPython.core.display.HTML object>"
            ]
          },
          "metadata": {
            "tags": []
          }
        },
        {
          "output_type": "display_data",
          "data": {
            "text/html": [
              "<span style=\"color:blue\"> |-sampling: None</span>"
            ],
            "text/plain": [
              "<IPython.core.display.HTML object>"
            ]
          },
          "metadata": {
            "tags": []
          }
        },
        {
          "output_type": "display_data",
          "data": {
            "text/html": [
              "<span style=\"color:cyan\"> |-step: 16</span>"
            ],
            "text/plain": [
              "<IPython.core.display.HTML object>"
            ]
          },
          "metadata": {
            "tags": []
          }
        },
        {
          "output_type": "display_data",
          "data": {
            "text/html": [
              "<span style=\"color:#7E57C2\"><h2 style=\"font-size:16px\">conv_2_kernel (Choice)</h2></span>"
            ],
            "text/plain": [
              "<IPython.core.display.HTML object>"
            ]
          },
          "metadata": {
            "tags": []
          }
        },
        {
          "output_type": "display_data",
          "data": {
            "text/html": [
              "<span style=\"color:cyan\"> |-default: 3</span>"
            ],
            "text/plain": [
              "<IPython.core.display.HTML object>"
            ]
          },
          "metadata": {
            "tags": []
          }
        },
        {
          "output_type": "display_data",
          "data": {
            "text/html": [
              "<span style=\"color:blue\"> |-ordered: True</span>"
            ],
            "text/plain": [
              "<IPython.core.display.HTML object>"
            ]
          },
          "metadata": {
            "tags": []
          }
        },
        {
          "output_type": "display_data",
          "data": {
            "text/html": [
              "<span style=\"color:cyan\"> |-values: [3, 5]</span>"
            ],
            "text/plain": [
              "<IPython.core.display.HTML object>"
            ]
          },
          "metadata": {
            "tags": []
          }
        },
        {
          "output_type": "display_data",
          "data": {
            "text/html": [
              "<span style=\"color:#7E57C2\"><h2 style=\"font-size:16px\">dropout_2 (Float)</h2></span>"
            ],
            "text/plain": [
              "<IPython.core.display.HTML object>"
            ]
          },
          "metadata": {
            "tags": []
          }
        },
        {
          "output_type": "display_data",
          "data": {
            "text/html": [
              "<span style=\"color:cyan\"> |-default: 0.25</span>"
            ],
            "text/plain": [
              "<IPython.core.display.HTML object>"
            ]
          },
          "metadata": {
            "tags": []
          }
        },
        {
          "output_type": "display_data",
          "data": {
            "text/html": [
              "<span style=\"color:blue\"> |-max_value: 0.5</span>"
            ],
            "text/plain": [
              "<IPython.core.display.HTML object>"
            ]
          },
          "metadata": {
            "tags": []
          }
        },
        {
          "output_type": "display_data",
          "data": {
            "text/html": [
              "<span style=\"color:cyan\"> |-min_value: 0.0</span>"
            ],
            "text/plain": [
              "<IPython.core.display.HTML object>"
            ]
          },
          "metadata": {
            "tags": []
          }
        },
        {
          "output_type": "display_data",
          "data": {
            "text/html": [
              "<span style=\"color:blue\"> |-sampling: None</span>"
            ],
            "text/plain": [
              "<IPython.core.display.HTML object>"
            ]
          },
          "metadata": {
            "tags": []
          }
        },
        {
          "output_type": "display_data",
          "data": {
            "text/html": [
              "<span style=\"color:cyan\"> |-step: 0.05</span>"
            ],
            "text/plain": [
              "<IPython.core.display.HTML object>"
            ]
          },
          "metadata": {
            "tags": []
          }
        },
        {
          "output_type": "display_data",
          "data": {
            "text/html": [
              "<span style=\"color:#7E57C2\"><h2 style=\"font-size:16px\">dropout_last (Float)</h2></span>"
            ],
            "text/plain": [
              "<IPython.core.display.HTML object>"
            ]
          },
          "metadata": {
            "tags": []
          }
        },
        {
          "output_type": "display_data",
          "data": {
            "text/html": [
              "<span style=\"color:cyan\"> |-default: 0.25</span>"
            ],
            "text/plain": [
              "<IPython.core.display.HTML object>"
            ]
          },
          "metadata": {
            "tags": []
          }
        },
        {
          "output_type": "display_data",
          "data": {
            "text/html": [
              "<span style=\"color:blue\"> |-max_value: 0.5</span>"
            ],
            "text/plain": [
              "<IPython.core.display.HTML object>"
            ]
          },
          "metadata": {
            "tags": []
          }
        },
        {
          "output_type": "display_data",
          "data": {
            "text/html": [
              "<span style=\"color:cyan\"> |-min_value: 0.0</span>"
            ],
            "text/plain": [
              "<IPython.core.display.HTML object>"
            ]
          },
          "metadata": {
            "tags": []
          }
        },
        {
          "output_type": "display_data",
          "data": {
            "text/html": [
              "<span style=\"color:blue\"> |-sampling: None</span>"
            ],
            "text/plain": [
              "<IPython.core.display.HTML object>"
            ]
          },
          "metadata": {
            "tags": []
          }
        },
        {
          "output_type": "display_data",
          "data": {
            "text/html": [
              "<span style=\"color:cyan\"> |-step: 0.05</span>"
            ],
            "text/plain": [
              "<IPython.core.display.HTML object>"
            ]
          },
          "metadata": {
            "tags": []
          }
        },
        {
          "output_type": "display_data",
          "data": {
            "text/html": [
              "<span style=\"color:#7E57C2\"><h2 style=\"font-size:16px\">learning_rate (Choice)</h2></span>"
            ],
            "text/plain": [
              "<IPython.core.display.HTML object>"
            ]
          },
          "metadata": {
            "tags": []
          }
        },
        {
          "output_type": "display_data",
          "data": {
            "text/html": [
              "<span style=\"color:cyan\"> |-default: 0.01</span>"
            ],
            "text/plain": [
              "<IPython.core.display.HTML object>"
            ]
          },
          "metadata": {
            "tags": []
          }
        },
        {
          "output_type": "display_data",
          "data": {
            "text/html": [
              "<span style=\"color:blue\"> |-ordered: True</span>"
            ],
            "text/plain": [
              "<IPython.core.display.HTML object>"
            ]
          },
          "metadata": {
            "tags": []
          }
        },
        {
          "output_type": "display_data",
          "data": {
            "text/html": [
              "<span style=\"color:cyan\"> |-values: [0.01, 0.001, 0.0001]</span>"
            ],
            "text/plain": [
              "<IPython.core.display.HTML object>"
            ]
          },
          "metadata": {
            "tags": []
          }
        }
      ]
    },
    {
      "cell_type": "code",
      "metadata": {
        "colab": {
          "base_uri": "https://localhost:8080/",
          "height": 1000
        },
        "id": "jpS8w4zQ8eLc",
        "outputId": "43a3e8a3-001e-4915-fee7-4d7b41af20d0"
      },
      "source": [
        "# It is the parameter specifying how big chunk of training data will be used for validation. It’s a float value between 0 and 1. \n",
        "# Validation data is not used for the training, but to evaluate the loss and the accuracy.\n",
        "# For example: validation_split=0.3 will cause that 30% of the training data will be used for validation.\n",
        "\n",
        "tuner_search.search(train_images,\n",
        "                    train_labels,\n",
        "                    epochs=5,\n",
        "                    validation_split=0.1\n",
        "                    )"
      ],
      "execution_count": null,
      "outputs": [
        {
          "output_type": "stream",
          "text": [
            "Epoch 1/5\n",
            "1688/1688 [==============================] - 12s 7ms/step - loss: 0.6839 - accuracy: 0.7566 - val_loss: 0.4409 - val_accuracy: 0.8383\n",
            "Epoch 2/5\n",
            "1688/1688 [==============================] - 12s 7ms/step - loss: 0.4565 - accuracy: 0.8396 - val_loss: 0.3698 - val_accuracy: 0.8640\n",
            "Epoch 3/5\n",
            "1688/1688 [==============================] - 12s 7ms/step - loss: 0.3907 - accuracy: 0.8610 - val_loss: 0.3190 - val_accuracy: 0.8773\n",
            "Epoch 4/5\n",
            "1688/1688 [==============================] - 12s 7ms/step - loss: 0.3471 - accuracy: 0.8757 - val_loss: 0.3042 - val_accuracy: 0.8833\n",
            "Epoch 5/5\n",
            "1688/1688 [==============================] - 12s 7ms/step - loss: 0.3184 - accuracy: 0.8861 - val_loss: 0.2912 - val_accuracy: 0.8892\n"
          ],
          "name": "stdout"
        },
        {
          "output_type": "display_data",
          "data": {
            "text/html": [
              "<span style=\"color:#4527A0\"><h1 style=\"font-size:18px\">Trial complete</h1></span>"
            ],
            "text/plain": [
              "<IPython.core.display.HTML object>"
            ]
          },
          "metadata": {
            "tags": []
          }
        },
        {
          "output_type": "display_data",
          "data": {
            "text/html": [
              "<span style=\"color:#4527A0\"><h1 style=\"font-size:18px\">Trial summary</h1></span>"
            ],
            "text/plain": [
              "<IPython.core.display.HTML object>"
            ]
          },
          "metadata": {
            "tags": []
          }
        },
        {
          "output_type": "display_data",
          "data": {
            "text/html": [
              "<span style=\"color:cyan\"> |-Trial ID: 3650a16c03b4febdeda15692a9cf8108</span>"
            ],
            "text/plain": [
              "<IPython.core.display.HTML object>"
            ]
          },
          "metadata": {
            "tags": []
          }
        },
        {
          "output_type": "display_data",
          "data": {
            "text/html": [
              "<span style=\"color:cyan\"> |-Score: 0.8891666531562805</span>"
            ],
            "text/plain": [
              "<IPython.core.display.HTML object>"
            ]
          },
          "metadata": {
            "tags": []
          }
        },
        {
          "output_type": "display_data",
          "data": {
            "text/html": [
              "<span style=\"color:cyan\"> |-Best step: 0</span>"
            ],
            "text/plain": [
              "<IPython.core.display.HTML object>"
            ]
          },
          "metadata": {
            "tags": []
          }
        },
        {
          "output_type": "display_data",
          "data": {
            "text/html": [
              "<span style=\"color:#7E57C2\"><h2 style=\"font-size:16px\">Hyperparameters:</h2></span>"
            ],
            "text/plain": [
              "<IPython.core.display.HTML object>"
            ]
          },
          "metadata": {
            "tags": []
          }
        },
        {
          "output_type": "display_data",
          "data": {
            "text/html": [
              "<span style=\"color:cyan\"> |-conv_0_filter: 48</span>"
            ],
            "text/plain": [
              "<IPython.core.display.HTML object>"
            ]
          },
          "metadata": {
            "tags": []
          }
        },
        {
          "output_type": "display_data",
          "data": {
            "text/html": [
              "<span style=\"color:blue\"> |-conv_0_kernel: 5</span>"
            ],
            "text/plain": [
              "<IPython.core.display.HTML object>"
            ]
          },
          "metadata": {
            "tags": []
          }
        },
        {
          "output_type": "display_data",
          "data": {
            "text/html": [
              "<span style=\"color:cyan\"> |-conv_1_filter: 64</span>"
            ],
            "text/plain": [
              "<IPython.core.display.HTML object>"
            ]
          },
          "metadata": {
            "tags": []
          }
        },
        {
          "output_type": "display_data",
          "data": {
            "text/html": [
              "<span style=\"color:blue\"> |-conv_1_kernel: 5</span>"
            ],
            "text/plain": [
              "<IPython.core.display.HTML object>"
            ]
          },
          "metadata": {
            "tags": []
          }
        },
        {
          "output_type": "display_data",
          "data": {
            "text/html": [
              "<span style=\"color:cyan\"> |-conv_2_filter: 96</span>"
            ],
            "text/plain": [
              "<IPython.core.display.HTML object>"
            ]
          },
          "metadata": {
            "tags": []
          }
        },
        {
          "output_type": "display_data",
          "data": {
            "text/html": [
              "<span style=\"color:blue\"> |-conv_2_kernel: 5</span>"
            ],
            "text/plain": [
              "<IPython.core.display.HTML object>"
            ]
          },
          "metadata": {
            "tags": []
          }
        },
        {
          "output_type": "display_data",
          "data": {
            "text/html": [
              "<span style=\"color:cyan\"> |-dropout_0: 0.0</span>"
            ],
            "text/plain": [
              "<IPython.core.display.HTML object>"
            ]
          },
          "metadata": {
            "tags": []
          }
        },
        {
          "output_type": "display_data",
          "data": {
            "text/html": [
              "<span style=\"color:blue\"> |-dropout_1: 0.30000000000000004</span>"
            ],
            "text/plain": [
              "<IPython.core.display.HTML object>"
            ]
          },
          "metadata": {
            "tags": []
          }
        },
        {
          "output_type": "display_data",
          "data": {
            "text/html": [
              "<span style=\"color:cyan\"> |-dropout_2: 0.25</span>"
            ],
            "text/plain": [
              "<IPython.core.display.HTML object>"
            ]
          },
          "metadata": {
            "tags": []
          }
        },
        {
          "output_type": "display_data",
          "data": {
            "text/html": [
              "<span style=\"color:blue\"> |-dropout_last: 0.25</span>"
            ],
            "text/plain": [
              "<IPython.core.display.HTML object>"
            ]
          },
          "metadata": {
            "tags": []
          }
        },
        {
          "output_type": "display_data",
          "data": {
            "text/html": [
              "<span style=\"color:cyan\"> |-learning_rate: 0.0001</span>"
            ],
            "text/plain": [
              "<IPython.core.display.HTML object>"
            ]
          },
          "metadata": {
            "tags": []
          }
        },
        {
          "output_type": "display_data",
          "data": {
            "text/html": [
              "<span style=\"color:blue\"> |-num_layers: 2</span>"
            ],
            "text/plain": [
              "<IPython.core.display.HTML object>"
            ]
          },
          "metadata": {
            "tags": []
          }
        },
        {
          "output_type": "stream",
          "text": [
            "Epoch 1/5\n",
            "1688/1688 [==============================] - 13s 8ms/step - loss: 2.3122 - accuracy: 0.0971 - val_loss: 2.3053 - val_accuracy: 0.0942\n",
            "Epoch 2/5\n",
            "1688/1688 [==============================] - 13s 8ms/step - loss: 2.3039 - accuracy: 0.1014 - val_loss: 2.3043 - val_accuracy: 0.0973\n",
            "Epoch 3/5\n",
            "1688/1688 [==============================] - 13s 8ms/step - loss: 2.3041 - accuracy: 0.0978 - val_loss: 2.3025 - val_accuracy: 0.1032\n",
            "Epoch 4/5\n",
            "1688/1688 [==============================] - 13s 8ms/step - loss: 2.3040 - accuracy: 0.0993 - val_loss: 2.3036 - val_accuracy: 0.1003\n",
            "Epoch 5/5\n",
            "1688/1688 [==============================] - 13s 8ms/step - loss: 2.3041 - accuracy: 0.1006 - val_loss: 2.3039 - val_accuracy: 0.0925\n"
          ],
          "name": "stdout"
        },
        {
          "output_type": "display_data",
          "data": {
            "text/html": [
              "<span style=\"color:#4527A0\"><h1 style=\"font-size:18px\">Trial complete</h1></span>"
            ],
            "text/plain": [
              "<IPython.core.display.HTML object>"
            ]
          },
          "metadata": {
            "tags": []
          }
        },
        {
          "output_type": "display_data",
          "data": {
            "text/html": [
              "<span style=\"color:#4527A0\"><h1 style=\"font-size:18px\">Trial summary</h1></span>"
            ],
            "text/plain": [
              "<IPython.core.display.HTML object>"
            ]
          },
          "metadata": {
            "tags": []
          }
        },
        {
          "output_type": "display_data",
          "data": {
            "text/html": [
              "<span style=\"color:cyan\"> |-Trial ID: cf11c365dfecee2eeac9ba2de3346b69</span>"
            ],
            "text/plain": [
              "<IPython.core.display.HTML object>"
            ]
          },
          "metadata": {
            "tags": []
          }
        },
        {
          "output_type": "display_data",
          "data": {
            "text/html": [
              "<span style=\"color:cyan\"> |-Score: 0.10316666960716248</span>"
            ],
            "text/plain": [
              "<IPython.core.display.HTML object>"
            ]
          },
          "metadata": {
            "tags": []
          }
        },
        {
          "output_type": "display_data",
          "data": {
            "text/html": [
              "<span style=\"color:cyan\"> |-Best step: 0</span>"
            ],
            "text/plain": [
              "<IPython.core.display.HTML object>"
            ]
          },
          "metadata": {
            "tags": []
          }
        },
        {
          "output_type": "display_data",
          "data": {
            "text/html": [
              "<span style=\"color:#7E57C2\"><h2 style=\"font-size:16px\">Hyperparameters:</h2></span>"
            ],
            "text/plain": [
              "<IPython.core.display.HTML object>"
            ]
          },
          "metadata": {
            "tags": []
          }
        },
        {
          "output_type": "display_data",
          "data": {
            "text/html": [
              "<span style=\"color:cyan\"> |-conv_0_filter: 48</span>"
            ],
            "text/plain": [
              "<IPython.core.display.HTML object>"
            ]
          },
          "metadata": {
            "tags": []
          }
        },
        {
          "output_type": "display_data",
          "data": {
            "text/html": [
              "<span style=\"color:blue\"> |-conv_0_kernel: 3</span>"
            ],
            "text/plain": [
              "<IPython.core.display.HTML object>"
            ]
          },
          "metadata": {
            "tags": []
          }
        },
        {
          "output_type": "display_data",
          "data": {
            "text/html": [
              "<span style=\"color:cyan\"> |-conv_1_filter: 96</span>"
            ],
            "text/plain": [
              "<IPython.core.display.HTML object>"
            ]
          },
          "metadata": {
            "tags": []
          }
        },
        {
          "output_type": "display_data",
          "data": {
            "text/html": [
              "<span style=\"color:blue\"> |-conv_1_kernel: 5</span>"
            ],
            "text/plain": [
              "<IPython.core.display.HTML object>"
            ]
          },
          "metadata": {
            "tags": []
          }
        },
        {
          "output_type": "display_data",
          "data": {
            "text/html": [
              "<span style=\"color:cyan\"> |-conv_2_filter: 48</span>"
            ],
            "text/plain": [
              "<IPython.core.display.HTML object>"
            ]
          },
          "metadata": {
            "tags": []
          }
        },
        {
          "output_type": "display_data",
          "data": {
            "text/html": [
              "<span style=\"color:blue\"> |-conv_2_kernel: 5</span>"
            ],
            "text/plain": [
              "<IPython.core.display.HTML object>"
            ]
          },
          "metadata": {
            "tags": []
          }
        },
        {
          "output_type": "display_data",
          "data": {
            "text/html": [
              "<span style=\"color:cyan\"> |-conv_3_filter: 32</span>"
            ],
            "text/plain": [
              "<IPython.core.display.HTML object>"
            ]
          },
          "metadata": {
            "tags": []
          }
        },
        {
          "output_type": "display_data",
          "data": {
            "text/html": [
              "<span style=\"color:blue\"> |-conv_3_kernel: 3</span>"
            ],
            "text/plain": [
              "<IPython.core.display.HTML object>"
            ]
          },
          "metadata": {
            "tags": []
          }
        },
        {
          "output_type": "display_data",
          "data": {
            "text/html": [
              "<span style=\"color:cyan\"> |-dropout_0: 0.30000000000000004</span>"
            ],
            "text/plain": [
              "<IPython.core.display.HTML object>"
            ]
          },
          "metadata": {
            "tags": []
          }
        },
        {
          "output_type": "display_data",
          "data": {
            "text/html": [
              "<span style=\"color:blue\"> |-dropout_1: 0.35000000000000003</span>"
            ],
            "text/plain": [
              "<IPython.core.display.HTML object>"
            ]
          },
          "metadata": {
            "tags": []
          }
        },
        {
          "output_type": "display_data",
          "data": {
            "text/html": [
              "<span style=\"color:cyan\"> |-dropout_2: 0.30000000000000004</span>"
            ],
            "text/plain": [
              "<IPython.core.display.HTML object>"
            ]
          },
          "metadata": {
            "tags": []
          }
        },
        {
          "output_type": "display_data",
          "data": {
            "text/html": [
              "<span style=\"color:blue\"> |-dropout_3: 0.25</span>"
            ],
            "text/plain": [
              "<IPython.core.display.HTML object>"
            ]
          },
          "metadata": {
            "tags": []
          }
        },
        {
          "output_type": "display_data",
          "data": {
            "text/html": [
              "<span style=\"color:cyan\"> |-dropout_last: 0.05</span>"
            ],
            "text/plain": [
              "<IPython.core.display.HTML object>"
            ]
          },
          "metadata": {
            "tags": []
          }
        },
        {
          "output_type": "display_data",
          "data": {
            "text/html": [
              "<span style=\"color:blue\"> |-learning_rate: 0.01</span>"
            ],
            "text/plain": [
              "<IPython.core.display.HTML object>"
            ]
          },
          "metadata": {
            "tags": []
          }
        },
        {
          "output_type": "display_data",
          "data": {
            "text/html": [
              "<span style=\"color:cyan\"> |-num_layers: 3</span>"
            ],
            "text/plain": [
              "<IPython.core.display.HTML object>"
            ]
          },
          "metadata": {
            "tags": []
          }
        },
        {
          "output_type": "stream",
          "text": [
            "Epoch 1/5\n",
            "1688/1688 [==============================] - 10s 6ms/step - loss: 0.6335 - accuracy: 0.7706 - val_loss: 0.4361 - val_accuracy: 0.8447\n",
            "Epoch 2/5\n",
            "1688/1688 [==============================] - 10s 6ms/step - loss: 0.4208 - accuracy: 0.8478 - val_loss: 0.3724 - val_accuracy: 0.8665\n",
            "Epoch 3/5\n",
            "1688/1688 [==============================] - 10s 6ms/step - loss: 0.3581 - accuracy: 0.8702 - val_loss: 0.3138 - val_accuracy: 0.8835\n",
            "Epoch 4/5\n",
            "1688/1688 [==============================] - 10s 6ms/step - loss: 0.3194 - accuracy: 0.8854 - val_loss: 0.2958 - val_accuracy: 0.8910\n",
            "Epoch 5/5\n",
            "1688/1688 [==============================] - 10s 6ms/step - loss: 0.2905 - accuracy: 0.8940 - val_loss: 0.2903 - val_accuracy: 0.8938\n"
          ],
          "name": "stdout"
        },
        {
          "output_type": "display_data",
          "data": {
            "text/html": [
              "<span style=\"color:#4527A0\"><h1 style=\"font-size:18px\">Trial complete</h1></span>"
            ],
            "text/plain": [
              "<IPython.core.display.HTML object>"
            ]
          },
          "metadata": {
            "tags": []
          }
        },
        {
          "output_type": "display_data",
          "data": {
            "text/html": [
              "<span style=\"color:#4527A0\"><h1 style=\"font-size:18px\">Trial summary</h1></span>"
            ],
            "text/plain": [
              "<IPython.core.display.HTML object>"
            ]
          },
          "metadata": {
            "tags": []
          }
        },
        {
          "output_type": "display_data",
          "data": {
            "text/html": [
              "<span style=\"color:cyan\"> |-Trial ID: af955d853579ba78755d5bbdf554d95b</span>"
            ],
            "text/plain": [
              "<IPython.core.display.HTML object>"
            ]
          },
          "metadata": {
            "tags": []
          }
        },
        {
          "output_type": "display_data",
          "data": {
            "text/html": [
              "<span style=\"color:cyan\"> |-Score: 0.893833339214325</span>"
            ],
            "text/plain": [
              "<IPython.core.display.HTML object>"
            ]
          },
          "metadata": {
            "tags": []
          }
        },
        {
          "output_type": "display_data",
          "data": {
            "text/html": [
              "<span style=\"color:cyan\"> |-Best step: 0</span>"
            ],
            "text/plain": [
              "<IPython.core.display.HTML object>"
            ]
          },
          "metadata": {
            "tags": []
          }
        },
        {
          "output_type": "display_data",
          "data": {
            "text/html": [
              "<span style=\"color:#7E57C2\"><h2 style=\"font-size:16px\">Hyperparameters:</h2></span>"
            ],
            "text/plain": [
              "<IPython.core.display.HTML object>"
            ]
          },
          "metadata": {
            "tags": []
          }
        },
        {
          "output_type": "display_data",
          "data": {
            "text/html": [
              "<span style=\"color:cyan\"> |-conv_0_filter: 32</span>"
            ],
            "text/plain": [
              "<IPython.core.display.HTML object>"
            ]
          },
          "metadata": {
            "tags": []
          }
        },
        {
          "output_type": "display_data",
          "data": {
            "text/html": [
              "<span style=\"color:blue\"> |-conv_0_kernel: 3</span>"
            ],
            "text/plain": [
              "<IPython.core.display.HTML object>"
            ]
          },
          "metadata": {
            "tags": []
          }
        },
        {
          "output_type": "display_data",
          "data": {
            "text/html": [
              "<span style=\"color:cyan\"> |-conv_1_filter: 64</span>"
            ],
            "text/plain": [
              "<IPython.core.display.HTML object>"
            ]
          },
          "metadata": {
            "tags": []
          }
        },
        {
          "output_type": "display_data",
          "data": {
            "text/html": [
              "<span style=\"color:blue\"> |-conv_1_kernel: 5</span>"
            ],
            "text/plain": [
              "<IPython.core.display.HTML object>"
            ]
          },
          "metadata": {
            "tags": []
          }
        },
        {
          "output_type": "display_data",
          "data": {
            "text/html": [
              "<span style=\"color:cyan\"> |-conv_2_filter: 48</span>"
            ],
            "text/plain": [
              "<IPython.core.display.HTML object>"
            ]
          },
          "metadata": {
            "tags": []
          }
        },
        {
          "output_type": "display_data",
          "data": {
            "text/html": [
              "<span style=\"color:blue\"> |-conv_2_kernel: 3</span>"
            ],
            "text/plain": [
              "<IPython.core.display.HTML object>"
            ]
          },
          "metadata": {
            "tags": []
          }
        },
        {
          "output_type": "display_data",
          "data": {
            "text/html": [
              "<span style=\"color:cyan\"> |-conv_3_filter: 128</span>"
            ],
            "text/plain": [
              "<IPython.core.display.HTML object>"
            ]
          },
          "metadata": {
            "tags": []
          }
        },
        {
          "output_type": "display_data",
          "data": {
            "text/html": [
              "<span style=\"color:blue\"> |-conv_3_kernel: 5</span>"
            ],
            "text/plain": [
              "<IPython.core.display.HTML object>"
            ]
          },
          "metadata": {
            "tags": []
          }
        },
        {
          "output_type": "display_data",
          "data": {
            "text/html": [
              "<span style=\"color:cyan\"> |-dropout_0: 0.4</span>"
            ],
            "text/plain": [
              "<IPython.core.display.HTML object>"
            ]
          },
          "metadata": {
            "tags": []
          }
        },
        {
          "output_type": "display_data",
          "data": {
            "text/html": [
              "<span style=\"color:blue\"> |-dropout_1: 0.45</span>"
            ],
            "text/plain": [
              "<IPython.core.display.HTML object>"
            ]
          },
          "metadata": {
            "tags": []
          }
        },
        {
          "output_type": "display_data",
          "data": {
            "text/html": [
              "<span style=\"color:cyan\"> |-dropout_2: 0.05</span>"
            ],
            "text/plain": [
              "<IPython.core.display.HTML object>"
            ]
          },
          "metadata": {
            "tags": []
          }
        },
        {
          "output_type": "display_data",
          "data": {
            "text/html": [
              "<span style=\"color:blue\"> |-dropout_3: 0.05</span>"
            ],
            "text/plain": [
              "<IPython.core.display.HTML object>"
            ]
          },
          "metadata": {
            "tags": []
          }
        },
        {
          "output_type": "display_data",
          "data": {
            "text/html": [
              "<span style=\"color:cyan\"> |-dropout_last: 0.05</span>"
            ],
            "text/plain": [
              "<IPython.core.display.HTML object>"
            ]
          },
          "metadata": {
            "tags": []
          }
        },
        {
          "output_type": "display_data",
          "data": {
            "text/html": [
              "<span style=\"color:blue\"> |-learning_rate: 0.0001</span>"
            ],
            "text/plain": [
              "<IPython.core.display.HTML object>"
            ]
          },
          "metadata": {
            "tags": []
          }
        },
        {
          "output_type": "display_data",
          "data": {
            "text/html": [
              "<span style=\"color:cyan\"> |-num_layers: 2</span>"
            ],
            "text/plain": [
              "<IPython.core.display.HTML object>"
            ]
          },
          "metadata": {
            "tags": []
          }
        },
        {
          "output_type": "stream",
          "text": [
            "Epoch 1/5\n",
            "1688/1688 [==============================] - 15s 9ms/step - loss: 0.4807 - accuracy: 0.8242 - val_loss: 0.3147 - val_accuracy: 0.8835\n",
            "Epoch 2/5\n",
            "1688/1688 [==============================] - 15s 9ms/step - loss: 0.3193 - accuracy: 0.8844 - val_loss: 0.2764 - val_accuracy: 0.8968\n",
            "Epoch 3/5\n",
            "1688/1688 [==============================] - 15s 9ms/step - loss: 0.2767 - accuracy: 0.8971 - val_loss: 0.2748 - val_accuracy: 0.9005\n",
            "Epoch 4/5\n",
            "1688/1688 [==============================] - 15s 9ms/step - loss: 0.2492 - accuracy: 0.9091 - val_loss: 0.2658 - val_accuracy: 0.9030\n",
            "Epoch 5/5\n",
            "1688/1688 [==============================] - 15s 9ms/step - loss: 0.2267 - accuracy: 0.9149 - val_loss: 0.2458 - val_accuracy: 0.9103\n"
          ],
          "name": "stdout"
        },
        {
          "output_type": "display_data",
          "data": {
            "text/html": [
              "<span style=\"color:#4527A0\"><h1 style=\"font-size:18px\">Trial complete</h1></span>"
            ],
            "text/plain": [
              "<IPython.core.display.HTML object>"
            ]
          },
          "metadata": {
            "tags": []
          }
        },
        {
          "output_type": "display_data",
          "data": {
            "text/html": [
              "<span style=\"color:#4527A0\"><h1 style=\"font-size:18px\">Trial summary</h1></span>"
            ],
            "text/plain": [
              "<IPython.core.display.HTML object>"
            ]
          },
          "metadata": {
            "tags": []
          }
        },
        {
          "output_type": "display_data",
          "data": {
            "text/html": [
              "<span style=\"color:cyan\"> |-Trial ID: 5b9fff0bb3799892fd9073572074ddb6</span>"
            ],
            "text/plain": [
              "<IPython.core.display.HTML object>"
            ]
          },
          "metadata": {
            "tags": []
          }
        },
        {
          "output_type": "display_data",
          "data": {
            "text/html": [
              "<span style=\"color:cyan\"> |-Score: 0.9103333353996277</span>"
            ],
            "text/plain": [
              "<IPython.core.display.HTML object>"
            ]
          },
          "metadata": {
            "tags": []
          }
        },
        {
          "output_type": "display_data",
          "data": {
            "text/html": [
              "<span style=\"color:cyan\"> |-Best step: 0</span>"
            ],
            "text/plain": [
              "<IPython.core.display.HTML object>"
            ]
          },
          "metadata": {
            "tags": []
          }
        },
        {
          "output_type": "display_data",
          "data": {
            "text/html": [
              "<span style=\"color:#7E57C2\"><h2 style=\"font-size:16px\">Hyperparameters:</h2></span>"
            ],
            "text/plain": [
              "<IPython.core.display.HTML object>"
            ]
          },
          "metadata": {
            "tags": []
          }
        },
        {
          "output_type": "display_data",
          "data": {
            "text/html": [
              "<span style=\"color:cyan\"> |-conv_0_filter: 48</span>"
            ],
            "text/plain": [
              "<IPython.core.display.HTML object>"
            ]
          },
          "metadata": {
            "tags": []
          }
        },
        {
          "output_type": "display_data",
          "data": {
            "text/html": [
              "<span style=\"color:blue\"> |-conv_0_kernel: 3</span>"
            ],
            "text/plain": [
              "<IPython.core.display.HTML object>"
            ]
          },
          "metadata": {
            "tags": []
          }
        },
        {
          "output_type": "display_data",
          "data": {
            "text/html": [
              "<span style=\"color:cyan\"> |-conv_1_filter: 80</span>"
            ],
            "text/plain": [
              "<IPython.core.display.HTML object>"
            ]
          },
          "metadata": {
            "tags": []
          }
        },
        {
          "output_type": "display_data",
          "data": {
            "text/html": [
              "<span style=\"color:blue\"> |-conv_1_kernel: 5</span>"
            ],
            "text/plain": [
              "<IPython.core.display.HTML object>"
            ]
          },
          "metadata": {
            "tags": []
          }
        },
        {
          "output_type": "display_data",
          "data": {
            "text/html": [
              "<span style=\"color:cyan\"> |-conv_2_filter: 112</span>"
            ],
            "text/plain": [
              "<IPython.core.display.HTML object>"
            ]
          },
          "metadata": {
            "tags": []
          }
        },
        {
          "output_type": "display_data",
          "data": {
            "text/html": [
              "<span style=\"color:blue\"> |-conv_2_kernel: 3</span>"
            ],
            "text/plain": [
              "<IPython.core.display.HTML object>"
            ]
          },
          "metadata": {
            "tags": []
          }
        },
        {
          "output_type": "display_data",
          "data": {
            "text/html": [
              "<span style=\"color:cyan\"> |-conv_3_filter: 64</span>"
            ],
            "text/plain": [
              "<IPython.core.display.HTML object>"
            ]
          },
          "metadata": {
            "tags": []
          }
        },
        {
          "output_type": "display_data",
          "data": {
            "text/html": [
              "<span style=\"color:blue\"> |-conv_3_kernel: 3</span>"
            ],
            "text/plain": [
              "<IPython.core.display.HTML object>"
            ]
          },
          "metadata": {
            "tags": []
          }
        },
        {
          "output_type": "display_data",
          "data": {
            "text/html": [
              "<span style=\"color:cyan\"> |-dropout_0: 0.0</span>"
            ],
            "text/plain": [
              "<IPython.core.display.HTML object>"
            ]
          },
          "metadata": {
            "tags": []
          }
        },
        {
          "output_type": "display_data",
          "data": {
            "text/html": [
              "<span style=\"color:blue\"> |-dropout_1: 0.1</span>"
            ],
            "text/plain": [
              "<IPython.core.display.HTML object>"
            ]
          },
          "metadata": {
            "tags": []
          }
        },
        {
          "output_type": "display_data",
          "data": {
            "text/html": [
              "<span style=\"color:cyan\"> |-dropout_2: 0.5</span>"
            ],
            "text/plain": [
              "<IPython.core.display.HTML object>"
            ]
          },
          "metadata": {
            "tags": []
          }
        },
        {
          "output_type": "display_data",
          "data": {
            "text/html": [
              "<span style=\"color:blue\"> |-dropout_3: 0.30000000000000004</span>"
            ],
            "text/plain": [
              "<IPython.core.display.HTML object>"
            ]
          },
          "metadata": {
            "tags": []
          }
        },
        {
          "output_type": "display_data",
          "data": {
            "text/html": [
              "<span style=\"color:cyan\"> |-dropout_last: 0.1</span>"
            ],
            "text/plain": [
              "<IPython.core.display.HTML object>"
            ]
          },
          "metadata": {
            "tags": []
          }
        },
        {
          "output_type": "display_data",
          "data": {
            "text/html": [
              "<span style=\"color:blue\"> |-learning_rate: 0.001</span>"
            ],
            "text/plain": [
              "<IPython.core.display.HTML object>"
            ]
          },
          "metadata": {
            "tags": []
          }
        },
        {
          "output_type": "display_data",
          "data": {
            "text/html": [
              "<span style=\"color:cyan\"> |-num_layers: 3</span>"
            ],
            "text/plain": [
              "<IPython.core.display.HTML object>"
            ]
          },
          "metadata": {
            "tags": []
          }
        },
        {
          "output_type": "stream",
          "text": [
            "Epoch 1/5\n",
            "1688/1688 [==============================] - 16s 10ms/step - loss: 2.4189 - accuracy: 0.0981 - val_loss: 2.3034 - val_accuracy: 0.0925\n",
            "Epoch 2/5\n",
            "1688/1688 [==============================] - 16s 9ms/step - loss: 2.3038 - accuracy: 0.0980 - val_loss: 2.3037 - val_accuracy: 0.0973\n",
            "Epoch 3/5\n",
            "1688/1688 [==============================] - 16s 10ms/step - loss: 2.3052 - accuracy: 0.0961 - val_loss: 2.3040 - val_accuracy: 0.1003\n",
            "Epoch 4/5\n",
            "1688/1688 [==============================] - 16s 9ms/step - loss: 2.3042 - accuracy: 0.1005 - val_loss: 2.3031 - val_accuracy: 0.1027\n",
            "Epoch 5/5\n",
            "1688/1688 [==============================] - 16s 9ms/step - loss: 2.3039 - accuracy: 0.1003 - val_loss: 2.3032 - val_accuracy: 0.0973\n"
          ],
          "name": "stdout"
        },
        {
          "output_type": "display_data",
          "data": {
            "text/html": [
              "<span style=\"color:#4527A0\"><h1 style=\"font-size:18px\">Trial complete</h1></span>"
            ],
            "text/plain": [
              "<IPython.core.display.HTML object>"
            ]
          },
          "metadata": {
            "tags": []
          }
        },
        {
          "output_type": "display_data",
          "data": {
            "text/html": [
              "<span style=\"color:#4527A0\"><h1 style=\"font-size:18px\">Trial summary</h1></span>"
            ],
            "text/plain": [
              "<IPython.core.display.HTML object>"
            ]
          },
          "metadata": {
            "tags": []
          }
        },
        {
          "output_type": "display_data",
          "data": {
            "text/html": [
              "<span style=\"color:cyan\"> |-Trial ID: 850943a8cab52cfaa7c8e8f38b5d5a24</span>"
            ],
            "text/plain": [
              "<IPython.core.display.HTML object>"
            ]
          },
          "metadata": {
            "tags": []
          }
        },
        {
          "output_type": "display_data",
          "data": {
            "text/html": [
              "<span style=\"color:cyan\"> |-Score: 0.10266666859388351</span>"
            ],
            "text/plain": [
              "<IPython.core.display.HTML object>"
            ]
          },
          "metadata": {
            "tags": []
          }
        },
        {
          "output_type": "display_data",
          "data": {
            "text/html": [
              "<span style=\"color:cyan\"> |-Best step: 0</span>"
            ],
            "text/plain": [
              "<IPython.core.display.HTML object>"
            ]
          },
          "metadata": {
            "tags": []
          }
        },
        {
          "output_type": "display_data",
          "data": {
            "text/html": [
              "<span style=\"color:#7E57C2\"><h2 style=\"font-size:16px\">Hyperparameters:</h2></span>"
            ],
            "text/plain": [
              "<IPython.core.display.HTML object>"
            ]
          },
          "metadata": {
            "tags": []
          }
        },
        {
          "output_type": "display_data",
          "data": {
            "text/html": [
              "<span style=\"color:cyan\"> |-conv_0_filter: 96</span>"
            ],
            "text/plain": [
              "<IPython.core.display.HTML object>"
            ]
          },
          "metadata": {
            "tags": []
          }
        },
        {
          "output_type": "display_data",
          "data": {
            "text/html": [
              "<span style=\"color:blue\"> |-conv_0_kernel: 5</span>"
            ],
            "text/plain": [
              "<IPython.core.display.HTML object>"
            ]
          },
          "metadata": {
            "tags": []
          }
        },
        {
          "output_type": "display_data",
          "data": {
            "text/html": [
              "<span style=\"color:cyan\"> |-conv_1_filter: 48</span>"
            ],
            "text/plain": [
              "<IPython.core.display.HTML object>"
            ]
          },
          "metadata": {
            "tags": []
          }
        },
        {
          "output_type": "display_data",
          "data": {
            "text/html": [
              "<span style=\"color:blue\"> |-conv_1_kernel: 3</span>"
            ],
            "text/plain": [
              "<IPython.core.display.HTML object>"
            ]
          },
          "metadata": {
            "tags": []
          }
        },
        {
          "output_type": "display_data",
          "data": {
            "text/html": [
              "<span style=\"color:cyan\"> |-conv_2_filter: 96</span>"
            ],
            "text/plain": [
              "<IPython.core.display.HTML object>"
            ]
          },
          "metadata": {
            "tags": []
          }
        },
        {
          "output_type": "display_data",
          "data": {
            "text/html": [
              "<span style=\"color:blue\"> |-conv_2_kernel: 3</span>"
            ],
            "text/plain": [
              "<IPython.core.display.HTML object>"
            ]
          },
          "metadata": {
            "tags": []
          }
        },
        {
          "output_type": "display_data",
          "data": {
            "text/html": [
              "<span style=\"color:cyan\"> |-conv_3_filter: 96</span>"
            ],
            "text/plain": [
              "<IPython.core.display.HTML object>"
            ]
          },
          "metadata": {
            "tags": []
          }
        },
        {
          "output_type": "display_data",
          "data": {
            "text/html": [
              "<span style=\"color:blue\"> |-conv_3_kernel: 5</span>"
            ],
            "text/plain": [
              "<IPython.core.display.HTML object>"
            ]
          },
          "metadata": {
            "tags": []
          }
        },
        {
          "output_type": "display_data",
          "data": {
            "text/html": [
              "<span style=\"color:cyan\"> |-conv_4_filter: 32</span>"
            ],
            "text/plain": [
              "<IPython.core.display.HTML object>"
            ]
          },
          "metadata": {
            "tags": []
          }
        },
        {
          "output_type": "display_data",
          "data": {
            "text/html": [
              "<span style=\"color:blue\"> |-conv_4_kernel: 3</span>"
            ],
            "text/plain": [
              "<IPython.core.display.HTML object>"
            ]
          },
          "metadata": {
            "tags": []
          }
        },
        {
          "output_type": "display_data",
          "data": {
            "text/html": [
              "<span style=\"color:cyan\"> |-conv_5_filter: 32</span>"
            ],
            "text/plain": [
              "<IPython.core.display.HTML object>"
            ]
          },
          "metadata": {
            "tags": []
          }
        },
        {
          "output_type": "display_data",
          "data": {
            "text/html": [
              "<span style=\"color:blue\"> |-conv_5_kernel: 3</span>"
            ],
            "text/plain": [
              "<IPython.core.display.HTML object>"
            ]
          },
          "metadata": {
            "tags": []
          }
        },
        {
          "output_type": "display_data",
          "data": {
            "text/html": [
              "<span style=\"color:cyan\"> |-dropout_0: 0.15000000000000002</span>"
            ],
            "text/plain": [
              "<IPython.core.display.HTML object>"
            ]
          },
          "metadata": {
            "tags": []
          }
        },
        {
          "output_type": "display_data",
          "data": {
            "text/html": [
              "<span style=\"color:blue\"> |-dropout_1: 0.15000000000000002</span>"
            ],
            "text/plain": [
              "<IPython.core.display.HTML object>"
            ]
          },
          "metadata": {
            "tags": []
          }
        },
        {
          "output_type": "display_data",
          "data": {
            "text/html": [
              "<span style=\"color:cyan\"> |-dropout_2: 0.35000000000000003</span>"
            ],
            "text/plain": [
              "<IPython.core.display.HTML object>"
            ]
          },
          "metadata": {
            "tags": []
          }
        },
        {
          "output_type": "display_data",
          "data": {
            "text/html": [
              "<span style=\"color:blue\"> |-dropout_3: 0.1</span>"
            ],
            "text/plain": [
              "<IPython.core.display.HTML object>"
            ]
          },
          "metadata": {
            "tags": []
          }
        },
        {
          "output_type": "display_data",
          "data": {
            "text/html": [
              "<span style=\"color:cyan\"> |-dropout_4: 0.25</span>"
            ],
            "text/plain": [
              "<IPython.core.display.HTML object>"
            ]
          },
          "metadata": {
            "tags": []
          }
        },
        {
          "output_type": "display_data",
          "data": {
            "text/html": [
              "<span style=\"color:blue\"> |-dropout_5: 0.25</span>"
            ],
            "text/plain": [
              "<IPython.core.display.HTML object>"
            ]
          },
          "metadata": {
            "tags": []
          }
        },
        {
          "output_type": "display_data",
          "data": {
            "text/html": [
              "<span style=\"color:cyan\"> |-dropout_last: 0.5</span>"
            ],
            "text/plain": [
              "<IPython.core.display.HTML object>"
            ]
          },
          "metadata": {
            "tags": []
          }
        },
        {
          "output_type": "display_data",
          "data": {
            "text/html": [
              "<span style=\"color:blue\"> |-learning_rate: 0.01</span>"
            ],
            "text/plain": [
              "<IPython.core.display.HTML object>"
            ]
          },
          "metadata": {
            "tags": []
          }
        },
        {
          "output_type": "display_data",
          "data": {
            "text/html": [
              "<span style=\"color:cyan\"> |-num_layers: 5</span>"
            ],
            "text/plain": [
              "<IPython.core.display.HTML object>"
            ]
          },
          "metadata": {
            "tags": []
          }
        },
        {
          "output_type": "stream",
          "text": [
            "INFO:tensorflow:Oracle triggered exit\n"
          ],
          "name": "stdout"
        }
      ]
    },
    {
      "cell_type": "markdown",
      "metadata": {
        "id": "4pX8WKPl-2pk"
      },
      "source": [
        "## Use The Best Model From This Result"
      ]
    },
    {
      "cell_type": "code",
      "metadata": {
        "id": "q02xY7PP7CMG"
      },
      "source": [
        "model=tuner_search.get_best_models(num_models=1)[0]"
      ],
      "execution_count": null,
      "outputs": []
    },
    {
      "cell_type": "code",
      "metadata": {
        "colab": {
          "base_uri": "https://localhost:8080/",
          "height": 561
        },
        "id": "sPU5AZ1P83MC",
        "outputId": "506cfbbc-ab7b-4bf5-9a96-59c4441a06e7"
      },
      "source": [
        "model.summary()"
      ],
      "execution_count": null,
      "outputs": [
        {
          "output_type": "stream",
          "text": [
            "Model: \"sequential\"\n",
            "_________________________________________________________________\n",
            "Layer (type)                 Output Shape              Param #   \n",
            "=================================================================\n",
            "conv2d (Conv2D)              (None, 26, 26, 48)        480       \n",
            "_________________________________________________________________\n",
            "dropout (Dropout)            (None, 26, 26, 48)        0         \n",
            "_________________________________________________________________\n",
            "conv2d_1 (Conv2D)            (None, 22, 22, 80)        96080     \n",
            "_________________________________________________________________\n",
            "dropout_1 (Dropout)          (None, 22, 22, 80)        0         \n",
            "_________________________________________________________________\n",
            "conv2d_2 (Conv2D)            (None, 20, 20, 112)       80752     \n",
            "_________________________________________________________________\n",
            "dropout_2 (Dropout)          (None, 20, 20, 112)       0         \n",
            "_________________________________________________________________\n",
            "conv2d_3 (Conv2D)            (None, 18, 18, 64)        64576     \n",
            "_________________________________________________________________\n",
            "dropout_3 (Dropout)          (None, 18, 18, 64)        0         \n",
            "_________________________________________________________________\n",
            "flatten (Flatten)            (None, 20736)             0         \n",
            "_________________________________________________________________\n",
            "dense (Dense)                (None, 64)                1327168   \n",
            "_________________________________________________________________\n",
            "dropout_4 (Dropout)          (None, 64)                0         \n",
            "_________________________________________________________________\n",
            "dense_1 (Dense)              (None, 10)                650       \n",
            "=================================================================\n",
            "Total params: 1,569,706\n",
            "Trainable params: 1,569,706\n",
            "Non-trainable params: 0\n",
            "_________________________________________________________________\n"
          ],
          "name": "stdout"
        }
      ]
    },
    {
      "cell_type": "code",
      "metadata": {
        "colab": {
          "base_uri": "https://localhost:8080/",
          "height": 158
        },
        "id": "1sBd8z9mpNVl",
        "outputId": "023b7772-a668-42ef-864a-9e9e80d16edf"
      },
      "source": [
        "# # Sample Run to speed up the process\n",
        "\n",
        "# import tensorflow as tf\n",
        "# from tensorflow.keras.models import Sequential\n",
        "# from tensorflow.keras.layers import Dense, Dropout, Activation, Flatten\n",
        "# from tensorflow.keras.layers import Conv2D, MaxPooling2D\n",
        "# from tensorflow.keras import optimizers\n",
        "\n",
        "\n",
        "# # Helper libraries\n",
        "# import numpy as np\n",
        "# import pandas as pd\n",
        "# import matplotlib.pyplot as plt\n",
        "\n",
        "# from tensorflow.keras.utils import to_categorical\n",
        "\n",
        "# from tensorflow.keras.datasets import fashion_mnist\n",
        "\n",
        "# # load dataset\n",
        "# (train_images, train_labels), (test_images, test_labels) = fashion_mnist.load_data()\n",
        "# # (train_images, train_labels), (test_images, test_labels) = fashion_mnist.load_data()\n",
        "\n",
        "# ######## 1st step ####### \n",
        "# # reshape dataset to have a single channel\n",
        "# train_images = train_images.reshape((train_images.shape[0], 28, 28, 1)) # train_images.shape[0]= 60000\n",
        "# test_images = test_images.reshape((test_images.shape[0], 28, 28, 1))    # test_images.shape[0]= 10000\n",
        "\n",
        "# ######## 2nd step #######\n",
        "# # one hot encode target values\n",
        "# train_labels = to_categorical(train_labels)\n",
        "# test_labels = to_categorical(test_labels)\n",
        "\n",
        "\n",
        "# ######## 3rd step #######\n",
        "# # convert from integers to floats\n",
        "# train_norm = train_images.astype('float32')\n",
        "# test_norm = test_images.astype('float32')\n",
        "# # normalize to range 0-1\n",
        "# train_norm = train_norm / 255.0\n",
        "# test_norm = test_norm / 255.0\n",
        "\n",
        "# # !pip install keras-tuner\n"
      ],
      "execution_count": null,
      "outputs": [
        {
          "output_type": "stream",
          "text": [
            "Downloading data from https://storage.googleapis.com/tensorflow/tf-keras-datasets/train-labels-idx1-ubyte.gz\n",
            "32768/29515 [=================================] - 0s 0us/step\n",
            "Downloading data from https://storage.googleapis.com/tensorflow/tf-keras-datasets/train-images-idx3-ubyte.gz\n",
            "26427392/26421880 [==============================] - 0s 0us/step\n",
            "Downloading data from https://storage.googleapis.com/tensorflow/tf-keras-datasets/t10k-labels-idx1-ubyte.gz\n",
            "8192/5148 [===============================================] - 0s 0us/step\n",
            "Downloading data from https://storage.googleapis.com/tensorflow/tf-keras-datasets/t10k-images-idx3-ubyte.gz\n",
            "4423680/4422102 [==============================] - 0s 0us/step\n"
          ],
          "name": "stdout"
        }
      ]
    },
    {
      "cell_type": "code",
      "metadata": {
        "id": "UBHdwM3XJEBS"
      },
      "source": [
        "# Strides:\n",
        "# by default stride value is same as pool_size and we should never add stride parameter in maxpooling \n",
        "# but if we are using a stride parameter in conv2D, then by default stride value is 1.\n",
        "\n",
        "#Padding:\n",
        "# by default padding value is \"valid\", which means no padding and another value is \"same\", which means “pad in such a way as to have an output with \n",
        "# the same width and height as the input.” or we can use number like padding=2 or 3 or any number.\n",
        "\n",
        "\n",
        "def getModel():\n",
        "  final_model = Sequential()\n",
        "\n",
        "  # Must define the input shape in the first layer of the neural network\n",
        "  final_model.add(Conv2D(filters=48, kernel_size=3, activation='relu', input_shape=(28,28,1))) \n",
        "  # final_model.add(Conv2D(filters=48, kernel_size=3, stride=1, padding=\"valid\", activation='relu', input_shape=(28,28,1))) \n",
        "  # final_model.add(MaxPooling2D(pool_size=2)) \n",
        "  # final_model.add(Dropout(0.1))\n",
        "\n",
        "  final_model.add(Conv2D(filters=80, kernel_size=3, activation='relu'))\n",
        "  final_model.add(MaxPooling2D(pool_size=2))\n",
        "  final_model.add(Dropout(0.2))\n",
        "\n",
        "  final_model.add(Conv2D(filters=96, kernel_size=3, activation='relu'))\n",
        "  # final_model.add(MaxPooling2D(pool_size=2))\n",
        "  # final_model.add(Dropout(0.1))\n",
        "\n",
        "  final_model.add(Conv2D(filters=112, kernel_size=3, activation='relu'))\n",
        "  # final_model.add(MaxPooling2D(pool_size=2))\n",
        "  # final_model.add(Dropout(0.1))\n",
        "\n",
        "  final_model.add(Conv2D(filters=146, kernel_size=3, activation='relu'))\n",
        "  final_model.add(MaxPooling2D(pool_size=2))\n",
        "  final_model.add(Dropout(0.2))\n",
        "\n",
        "\n",
        "  final_model.add(Flatten())\n",
        "  final_model.add(Dense(32, activation='relu'))\n",
        "  final_model.add(Dropout(0.2))\n",
        "  final_model.add(Dense(10, activation='softmax'))\n",
        "\n",
        "\n",
        "  final_model.compile(optimizer=optimizers.Adam(learning_rate=0.0001),\n",
        "                loss='categorical_crossentropy',\n",
        "                metrics=['accuracy'])\n",
        "\n",
        "  return final_model\n",
        "\n",
        "\n",
        "###### 1st Layer #######\n",
        "# input shape = 28*28*1\n",
        "# kernal1= 3*3\n",
        "# filter1= 48\n",
        "\n",
        "# n= input_shape - kernal1 + 1 => 28-3+1 => 26\n",
        "# output shape= (None, n=26 , n=26 , filter1=48)\n",
        "\n",
        "# parameters = filter1 * ( kernal1_shape + Bias )  => 48 * ((3*3) + 1) => 480 \n",
        "\n",
        "\n",
        "###### 2nd Layer #######\n",
        "# input shape = 26*26*1\n",
        "# kernal2= 3*3\n",
        "# filter2= 80\n",
        "\n",
        "# n= input_shape - kernal2 + 1 => 26-3+1 => 24\n",
        "# output shape= (None, n=24 , n=24 , filter2=80)\n",
        "\n",
        "# parameters = filter2 * ( (kernal2_shape*filter1) + Bias )  => 80 * (((3*3)*48) + 1) => 34640 \n",
        "\n",
        "\n",
        "####### Max Pooling #########\n",
        "# input shape = 24*24*1\n",
        "# pool_size = 2\n",
        "# filter2= 80\n",
        "\n",
        "# n= input_shape / pool_size => 24 / 2 => 12\n",
        "# output shape= (None, n=12 , n=12 , filter2=80)\n",
        "\n",
        "\n",
        "####### flatten #######\n",
        "# flatten: convert multi dim into 1 dim\n",
        "# previous_output_shape= (None, 4, 4, 112)\n",
        "\n",
        "# n = covert previous_output_shape into 1D => 4*4*112 => 1792\n",
        "# flatten = (None, n=1792)\n",
        "\n",
        "\n",
        "######### dense #########\n",
        "# previous_output_shape= (None, 1792)\n",
        "# filter= 32\n",
        "\n",
        "# parameter= (previous_output_shape+1)*filter => (1792+1) * 32 => 57376 \n",
        "\n",
        "\n",
        "######### Total Parameter ###########\n",
        "# Total parameters = add all parameters\n",
        "# Total_params= 480   +   34640   +   69216   +   96880   +   57376   +   330  = 258,922\n"
      ],
      "execution_count": null,
      "outputs": []
    },
    {
      "cell_type": "code",
      "metadata": {
        "colab": {
          "base_uri": "https://localhost:8080/"
        },
        "id": "1ZIp_1FYJ5x-",
        "outputId": "f00d2931-4e29-4d2e-e729-97728e2d92f1"
      },
      "source": [
        "# Take a look at the model summary\n",
        "getModel().summary()\n"
      ],
      "execution_count": null,
      "outputs": [
        {
          "output_type": "stream",
          "text": [
            "Model: \"sequential\"\n",
            "_________________________________________________________________\n",
            "Layer (type)                 Output Shape              Param #   \n",
            "=================================================================\n",
            "conv2d (Conv2D)              (None, 26, 26, 48)        480       \n",
            "_________________________________________________________________\n",
            "conv2d_1 (Conv2D)            (None, 24, 24, 80)        34640     \n",
            "_________________________________________________________________\n",
            "max_pooling2d (MaxPooling2D) (None, 12, 12, 80)        0         \n",
            "_________________________________________________________________\n",
            "dropout (Dropout)            (None, 12, 12, 80)        0         \n",
            "_________________________________________________________________\n",
            "conv2d_2 (Conv2D)            (None, 10, 10, 96)        69216     \n",
            "_________________________________________________________________\n",
            "conv2d_3 (Conv2D)            (None, 8, 8, 112)         96880     \n",
            "_________________________________________________________________\n",
            "conv2d_4 (Conv2D)            (None, 6, 6, 146)         147314    \n",
            "_________________________________________________________________\n",
            "max_pooling2d_1 (MaxPooling2 (None, 3, 3, 146)         0         \n",
            "_________________________________________________________________\n",
            "dropout_1 (Dropout)          (None, 3, 3, 146)         0         \n",
            "_________________________________________________________________\n",
            "flatten (Flatten)            (None, 1314)              0         \n",
            "_________________________________________________________________\n",
            "dense (Dense)                (None, 32)                42080     \n",
            "_________________________________________________________________\n",
            "dropout_2 (Dropout)          (None, 32)                0         \n",
            "_________________________________________________________________\n",
            "dense_1 (Dense)              (None, 10)                330       \n",
            "=================================================================\n",
            "Total params: 390,940\n",
            "Trainable params: 390,940\n",
            "Non-trainable params: 0\n",
            "_________________________________________________________________\n"
          ],
          "name": "stdout"
        }
      ]
    },
    {
      "cell_type": "code",
      "metadata": {
        "colab": {
          "base_uri": "https://localhost:8080/"
        },
        "id": "ZhDIzTvh85NP",
        "outputId": "d779aa51-75f3-44ba-c0fd-e0b8593898a5"
      },
      "source": [
        "final_model=getModel()\r\n",
        "hist = final_model.fit(train_images, train_labels, epochs=16, validation_split=0.1 ) #initial_epoch=5"
      ],
      "execution_count": null,
      "outputs": [
        {
          "output_type": "stream",
          "text": [
            "Epoch 1/16\n",
            "1688/1688 [==============================] - 9s 5ms/step - loss: 0.8743 - accuracy: 0.6846 - val_loss: 0.5151 - val_accuracy: 0.8100\n",
            "Epoch 2/16\n",
            "1688/1688 [==============================] - 9s 5ms/step - loss: 0.5664 - accuracy: 0.7962 - val_loss: 0.4373 - val_accuracy: 0.8360\n",
            "Epoch 3/16\n",
            "1688/1688 [==============================] - 9s 5ms/step - loss: 0.4786 - accuracy: 0.8299 - val_loss: 0.3696 - val_accuracy: 0.8610\n",
            "Epoch 4/16\n",
            "1688/1688 [==============================] - 9s 5ms/step - loss: 0.4250 - accuracy: 0.8490 - val_loss: 0.3410 - val_accuracy: 0.8767\n",
            "Epoch 5/16\n",
            "1688/1688 [==============================] - 9s 5ms/step - loss: 0.3889 - accuracy: 0.8618 - val_loss: 0.3181 - val_accuracy: 0.8810\n",
            "Epoch 6/16\n",
            "1688/1688 [==============================] - 9s 5ms/step - loss: 0.3566 - accuracy: 0.8726 - val_loss: 0.2949 - val_accuracy: 0.8883\n",
            "Epoch 7/16\n",
            "1688/1688 [==============================] - 9s 5ms/step - loss: 0.3363 - accuracy: 0.8806 - val_loss: 0.2950 - val_accuracy: 0.8898\n",
            "Epoch 8/16\n",
            "1688/1688 [==============================] - 9s 5ms/step - loss: 0.3206 - accuracy: 0.8846 - val_loss: 0.2721 - val_accuracy: 0.9007\n",
            "Epoch 9/16\n",
            "1688/1688 [==============================] - 9s 5ms/step - loss: 0.3024 - accuracy: 0.8930 - val_loss: 0.2824 - val_accuracy: 0.8970\n",
            "Epoch 10/16\n",
            "1688/1688 [==============================] - 9s 5ms/step - loss: 0.2893 - accuracy: 0.8974 - val_loss: 0.2579 - val_accuracy: 0.9032\n",
            "Epoch 11/16\n",
            "1688/1688 [==============================] - 9s 5ms/step - loss: 0.2786 - accuracy: 0.9012 - val_loss: 0.2485 - val_accuracy: 0.9078\n",
            "Epoch 12/16\n",
            "1688/1688 [==============================] - 9s 5ms/step - loss: 0.2675 - accuracy: 0.9056 - val_loss: 0.2481 - val_accuracy: 0.9103\n",
            "Epoch 13/16\n",
            "1688/1688 [==============================] - 9s 5ms/step - loss: 0.2577 - accuracy: 0.9087 - val_loss: 0.2464 - val_accuracy: 0.9087\n",
            "Epoch 14/16\n",
            "1688/1688 [==============================] - 9s 5ms/step - loss: 0.2498 - accuracy: 0.9112 - val_loss: 0.2342 - val_accuracy: 0.9158\n",
            "Epoch 15/16\n",
            "1688/1688 [==============================] - 9s 5ms/step - loss: 0.2412 - accuracy: 0.9150 - val_loss: 0.2283 - val_accuracy: 0.9170\n",
            "Epoch 16/16\n",
            "1688/1688 [==============================] - 9s 5ms/step - loss: 0.2333 - accuracy: 0.9160 - val_loss: 0.2298 - val_accuracy: 0.9147\n"
          ],
          "name": "stdout"
        }
      ]
    },
    {
      "cell_type": "code",
      "metadata": {
        "id": "ceUVb96G7Z10"
      },
      "source": [
        "final_model.save('/content/drive/My Drive/saved_models/fashion_cnn_final.h5')"
      ],
      "execution_count": null,
      "outputs": []
    },
    {
      "cell_type": "code",
      "metadata": {
        "id": "7St0lPka-PJs"
      },
      "source": [
        "final_model=tf.keras.models.load_model(\"/content/drive/My Drive/saved_models/fashion_cnn_final.h5\")"
      ],
      "execution_count": null,
      "outputs": []
    },
    {
      "cell_type": "markdown",
      "metadata": {
        "id": "scdefAGs-wd8"
      },
      "source": [
        "## Evaluate Model (Testing)"
      ]
    },
    {
      "cell_type": "code",
      "metadata": {
        "id": "QtPeEcUX9zBe"
      },
      "source": [
        "# Two quantities are displayed during training: the loss of the network over the training\n",
        "# data, and the accuracy of the network over the training data."
      ],
      "execution_count": null,
      "outputs": []
    },
    {
      "cell_type": "code",
      "metadata": {
        "colab": {
          "base_uri": "https://localhost:8080/"
        },
        "id": "NI400kj690dO",
        "outputId": "a4af2bc8-dc00-4391-cc63-e886cceaf906"
      },
      "source": [
        "# We quickly reach an accuracy of 0.9246 (92.46%) on the training data. Now let’s\n",
        "# check that the model performs well on the test set, too:\n",
        "\n",
        "test_loss, test_acc = final_model.evaluate(test_images,  test_labels)\n",
        "\n",
        "print('\\nTest accuracy:', test_acc)"
      ],
      "execution_count": null,
      "outputs": [
        {
          "output_type": "stream",
          "text": [
            "313/313 [==============================] - 1s 3ms/step - loss: 0.2502 - accuracy: 0.9085\n",
            "\n",
            "Test accuracy: 0.9085000157356262\n"
          ],
          "name": "stdout"
        }
      ]
    },
    {
      "cell_type": "code",
      "metadata": {
        "id": "dfOnl8Do-ImV"
      },
      "source": [
        "# The test-set accuracy turns out to be 91.78%—that’s quite a bit lower than the training\n",
        "# set accuracy. This gap of around 0.5% between training accuracy and test accuracy is an example of overfitting"
      ],
      "execution_count": null,
      "outputs": []
    },
    {
      "cell_type": "code",
      "metadata": {
        "id": "t7-oUoi987aP"
      },
      "source": [
        "# model.predict(test_images)"
      ],
      "execution_count": null,
      "outputs": []
    },
    {
      "cell_type": "code",
      "metadata": {
        "colab": {
          "base_uri": "https://localhost:8080/",
          "height": 34
        },
        "id": "VqaIuXvDgVNh",
        "outputId": "f083f304-b384-49b9-f36d-5f32857f5137"
      },
      "source": [
        "history_dict = hist.history\n",
        "history_dict.keys()"
      ],
      "execution_count": null,
      "outputs": [
        {
          "output_type": "execute_result",
          "data": {
            "text/plain": [
              "dict_keys(['loss', 'accuracy', 'val_loss', 'val_accuracy'])"
            ]
          },
          "metadata": {
            "tags": []
          },
          "execution_count": 11
        }
      ]
    },
    {
      "cell_type": "code",
      "metadata": {
        "colab": {
          "base_uri": "https://localhost:8080/",
          "height": 294
        },
        "id": "X83GcY4g9X9P",
        "outputId": "b3d9c464-590d-40a1-f84f-115039a0426f"
      },
      "source": [
        "history_dict = hist.history\n",
        "loss_values = history_dict['loss']\n",
        "val_loss_values = history_dict['val_loss']\n",
        "epochs = range(1, len(history_dict['accuracy']) + 1)\n",
        "\n",
        "plt.plot(epochs, loss_values, 'bo' , label='Training loss') # bo= blue dots\n",
        "plt.plot(epochs, val_loss_values, 'b', label='Validation loss') # b= blue solid line\n",
        "plt.title('Training and validation loss')\n",
        "plt.xlabel('Epochs')\n",
        "plt.ylabel('Loss')\n",
        "plt.legend()\n",
        "# plt.legend(loc=9) OR plt.legend(loc='best') OR plt.legend(loc='upper left')\n",
        "# plt.legend(fancybox=True, framealpha=1, shadow=True, borderpad=1)\n",
        "plt.show()"
      ],
      "execution_count": null,
      "outputs": [
        {
          "output_type": "display_data",
          "data": {
            "image/png": "[encoded data removed]",
            "text/plain": [
              "<Figure size 432x288 with 1 Axes>"
            ]
          },
          "metadata": {
            "tags": []
          }
        }
      ]
    },
    {
      "cell_type": "code",
      "metadata": {
        "colab": {
          "base_uri": "https://localhost:8080/",
          "height": 294
        },
        "id": "xRNUeJgUerdz",
        "outputId": "64d38301-c74c-4d11-e179-ab94b674e1b8"
      },
      "source": [
        "plt.clf()\n",
        "acc_values = history_dict['accuracy']\n",
        "val_acc_values = history_dict['val_accuracy']\n",
        "\n",
        "plt.plot(epochs, history_dict['accuracy'], 'bo', label='Training acc') # bo= blue dots\n",
        "plt.plot(epochs, history_dict['val_accuracy'], 'b', label='Validation acc') # b= blue solid line\n",
        "plt.title('Training and validation accuracy')\n",
        "plt.xlabel('Epochs')\n",
        "plt.ylabel('Accuracy')\n",
        "plt.legend()\n",
        "# plt.legend(loc=9) OR plt.legend(loc='best') OR plt.legend(loc='upper left')\n",
        "# plt.legend(fancybox=True, framealpha=1, shadow=True, borderpad=1)\n",
        "plt.show() "
      ],
      "execution_count": null,
      "outputs": [
        {
          "output_type": "display_data",
          "data": {
            "image/png": "[encoded data removed]",
            "text/plain": [
              "<Figure size 432x288 with 1 Axes>"
            ]
          },
          "metadata": {
            "tags": []
          }
        }
      ]
    },
    {
      "cell_type": "markdown",
      "metadata": {
        "id": "2LKI6CtbFDyO"
      },
      "source": [
        "# Make Predictions"
      ]
    },
    {
      "cell_type": "code",
      "metadata": {
        "id": "QYRZPUHMbgAU"
      },
      "source": [
        "\n",
        "(train_img, train_lab), (test_img, test_lab) = fashion_mnist.load_data()"
      ],
      "execution_count": null,
      "outputs": []
    },
    {
      "cell_type": "code",
      "metadata": {
        "colab": {
          "base_uri": "https://localhost:8080/",
          "height": 52
        },
        "id": "9aQC4MAzgj9P",
        "outputId": "56e41d07-acda-4d57-a239-09dadac5dbe7"
      },
      "source": [
        "class_names = ['T-shirt/top', 'Trouser', 'Pullover', 'Dress', 'Coat',\n",
        "               'Sandal', 'Shirt', 'Sneaker', 'Bag', 'Ankle boot']\n",
        "\n",
        "# print(\"Prediction:\",model.predict_classes(test_images[[13]]))\n",
        "print(\"Prediction:\",class_names[int(np.argmax(final_model.predict(test_images[[13]]), axis=-1))])\n",
        "# np.argmax(model.predict(test_images[[13]]), axis=-1)\n",
        "print(\"Real val:\",class_names[np.argmax(test_labels[13])])"
      ],
      "execution_count": null,
      "outputs": [
        {
          "output_type": "stream",
          "text": [
            "Prediction: Dress\n",
            "Real val: Dress\n"
          ],
          "name": "stdout"
        }
      ]
    },
    {
      "cell_type": "code",
      "metadata": {
        "colab": {
          "base_uri": "https://localhost:8080/",
          "height": 247
        },
        "id": "K2JTkRBiFd2X",
        "outputId": "5a4d4a9b-cefe-4884-a095-8614674c361a"
      },
      "source": [
        "\n",
        "predictions = final_model.predict(test_images)\n",
        "predictions # Here, the model has predicted the label for each image in the testing set."
      ],
      "execution_count": null,
      "outputs": [
        {
          "output_type": "execute_result",
          "data": {
            "text/plain": [
              "array([[3.3947447e-14, 6.7879201e-12, 1.5110687e-13, ..., 6.4445167e-06,\n",
              "        6.0607427e-13, 9.9999344e-01],\n",
              "       [3.2035857e-07, 3.7858300e-10, 9.9996758e-01, ..., 1.0853340e-12,\n",
              "        7.8942382e-12, 3.7313305e-11],\n",
              "       [1.3382734e-18, 1.0000000e+00, 4.9531683e-18, ..., 3.7245107e-19,\n",
              "        5.8211392e-18, 3.0488001e-26],\n",
              "       ...,\n",
              "       [2.5431673e-12, 4.0824595e-16, 2.6907900e-13, ..., 1.6320068e-16,\n",
              "        1.0000000e+00, 1.5303332e-19],\n",
              "       [1.3488907e-14, 1.0000000e+00, 1.6228320e-15, ..., 2.2052797e-17,\n",
              "        2.1595354e-16, 3.6381578e-22],\n",
              "       [4.1038256e-06, 5.1552402e-06, 6.4568922e-05, ..., 7.7639677e-02,\n",
              "        5.0775037e-04, 1.8961390e-03]], dtype=float32)"
            ]
          },
          "metadata": {
            "tags": []
          },
          "execution_count": 40
        }
      ]
    },
    {
      "cell_type": "code",
      "metadata": {
        "id": "D5QMXMK2g_tE"
      },
      "source": [
        "def plot_image(i, prediction_array):\n",
        "  real_label, img = test_lab[i], test_img[i]\n",
        "  plt.grid(False)\n",
        "  plt.xticks([])\n",
        "  plt.yticks([])\n",
        "\n",
        "  plt.imshow(img, cmap=plt.cm.binary)\n",
        "\n",
        "  predicted_label = np.argmax(prediction_array)\n",
        "  \n",
        "  if predicted_label == real_label:\n",
        "    color = 'g'\n",
        "  else:\n",
        "    color = 'red'\n",
        "\n",
        "  plt.xlabel(\"Labels\")\n",
        "\n",
        "  plt.xlabel(\"{} {:2.0f}% ({})\".format(class_names[predicted_label],100*np.max(prediction_array),class_names[real_label]),color=color)\n",
        "\n",
        "\n",
        "\n",
        "# 5.2.5\n",
        "def plot_images(imgs, labels=None, rows=1, figsize=(20,8), fontsize=14):\n",
        "    figure = plt.figure(figsize=figsize)\n",
        "    cols = max(1,len(imgs) // rows-1)\n",
        "    labels_present = False\n",
        "    # checking if labels is a numpy array\n",
        "    if type(labels).__module__ == np.__name__:\n",
        "        labels_present=labels.any()\n",
        "    elif labels:\n",
        "        labels_present=True\n",
        "    for i in range(len(imgs)):\n",
        "        subplot = figure.add_subplot(rows, cols+1, i+1)\n",
        "        # axis off, but leave a bounding box\n",
        "        plt.tick_params(\n",
        "            axis='both',\n",
        "            which='both',\n",
        "            bottom='off',\n",
        "            top='off',\n",
        "            left='off',\n",
        "            right='off',\n",
        "            labelbottom='off',\n",
        "            labelleft='off')\n",
        "        # plot labels if present\n",
        "        if labels_present:\n",
        "            subplot.set_title(labels[i], fontsize=fontsize)\n",
        "        plt.imshow(imgs[i][:,:,0], cmap='Greys')\n",
        "\n",
        "\n",
        "\n",
        "def plot_value_array(i, prediction_array):\n",
        "\n",
        "  real_label = test_lab[i]\n",
        "\n",
        "  plt.xticks(rotation=50)\n",
        "  plt.yticks(np.linspace(1,100,10))\n",
        "\n",
        "  thisplot = plt.bar(class_names, prediction_array*100, color=\"b\")\n",
        "\n",
        "  predicted_label = np.argmax(prediction_array)\n",
        "\n",
        "  if predicted_label == real_label:\n",
        "    thisplot[predicted_label].set_color('g')\n",
        "  else:\n",
        "    thisplot[predicted_label].set_color('red')\n",
        "    thisplot[real_label].set_color('g')"
      ],
      "execution_count": null,
      "outputs": []
    },
    {
      "cell_type": "code",
      "metadata": {
        "colab": {
          "base_uri": "https://localhost:8080/",
          "height": 356
        },
        "id": "oy5bSvRdEiXZ",
        "outputId": "6cdb0e7a-d04f-4c9a-c6e6-bd9802e30c31"
      },
      "source": [
        "i = 22\n",
        "plt.figure(figsize=(12,5))\n",
        "\n",
        "plt.subplot(1,2,1)\n",
        "plot_image(i, predictions[i])\n",
        "\n",
        "plt.subplot(1,2,2)\n",
        "plot_value_array(i, predictions[i])\n",
        "\n",
        "plt.show()"
      ],
      "execution_count": null,
      "outputs": [
        {
          "output_type": "display_data",
          "data": {
            "image/png": "[encoded data removed]",
            "text/plain": [
              "<Figure size 864x360 with 2 Axes>"
            ]
          },
          "metadata": {
            "tags": []
          }
        }
      ]
    },
    {
      "cell_type": "code",
      "metadata": {
        "colab": {
          "base_uri": "https://localhost:8080/",
          "height": 285
        },
        "id": "2XXu0Xinmx6T",
        "outputId": "6a42ead9-cff2-461c-9713-9c95c8f5d718"
      },
      "source": [
        "# import outside image and then predict\n",
        "import cv2\n",
        "# from skimage import io\n",
        "# from PIL import Image\n",
        "\n",
        "def prepare_img(filepath):\n",
        "\n",
        "  img_size=28\n",
        "  # img_array = io.imread(filepath, as_gray=True)\n",
        "  # img_array = Image.open(filepath).convert('LA')\n",
        "  img_array = cv2.imread(filepath, cv2.IMREAD_GRAYSCALE)\n",
        "  # new_array = img_array.resize((img_size, img_size))\n",
        "  new_array = cv2.resize(img_array, (img_size, img_size))\n",
        "\n",
        "  plt.imshow(new_array, cmap=plt.cm.binary)\n",
        "\n",
        "  img_size1=100\n",
        "  img_array1 = cv2.imread(\"/content/drive/My Drive/cnn_images/coat-removebg-preview.png\", cv2.IMREAD_GRAYSCALE)\n",
        "  new_array1 = cv2.resize(img_array1, (img_size1, img_size1))\n",
        "  plt.imshow(new_array1, cmap=plt.cm.binary)\n",
        "\n",
        "  return np.array(new_array).reshape(-1, img_size, img_size, 1)\n",
        "\n",
        "class_names = ['T-shirt/top', 'Trouser', 'Pullover', 'Dress', 'Coat',\n",
        "               'Sandal', 'Shirt', 'Sneaker', 'Bag', 'Ankle boot']\n",
        "\n",
        "prediction = final_model.predict([prepare_img(\"/content/drive/My Drive/cnn_images/coat-removebg-preview.png\")])\n",
        "\n",
        "print(\"Prediction: \",class_names[int(np.argmax(prediction))])"
      ],
      "execution_count": null,
      "outputs": [
        {
          "output_type": "stream",
          "text": [
            "Prediction:  Coat\n"
          ],
          "name": "stdout"
        },
        {
          "output_type": "display_data",
          "data": {
            "image/png": "[encoded data removed]",
            "text/plain": [
              "<Figure size 432x288 with 1 Axes>"
            ]
          },
          "metadata": {
            "tags": []
          }
        }
      ]
    },
    {
      "cell_type": "markdown",
      "metadata": {
        "id": "kBKUMWy8Ee9e"
      },
      "source": [
        "# **Data Augmentation**"
      ]
    },
    {
      "cell_type": "markdown",
      "metadata": {
        "id": "OpVr_U9UF-WW"
      },
      "source": [
        "# **Creating training data with augmentation**"
      ]
    },
    {
      "cell_type": "markdown",
      "metadata": {
        "id": "0fYh55YSmQOr"
      },
      "source": [
        "# **ROTATION**"
      ]
    },
    {
      "cell_type": "code",
      "metadata": {
        "colab": {
          "base_uri": "https://localhost:8080/",
          "height": 146
        },
        "id": "k5tlII2tmPsS",
        "outputId": "a7f7f130-c1c6-4a98-88a7-a05c9615118c"
      },
      "source": [
        "img = train_images[16]\r\n",
        "\r\n",
        "img_shifted = [ tf.keras.preprocessing.image.random_rotation(\r\n",
        "    img, \r\n",
        "    rg=100,\r\n",
        "    # wrg=0.1, \r\n",
        "    # hrg=0.2, \r\n",
        "    row_axis=0, \r\n",
        "    col_axis=1, \r\n",
        "    channel_axis=2, \r\n",
        "    fill_mode='constant',\r\n",
        "    cval=0\r\n",
        ") for _ in range(10) ]\r\n",
        "plot_images(img_shifted)"
      ],
      "execution_count": null,
      "outputs": [
        {
          "output_type": "display_data",
          "data": {
            "image/png": "[encoded data removed]",
            "text/plain": [
              "<Figure size 1440x576 with 10 Axes>"
            ]
          },
          "metadata": {
            "tags": []
          }
        }
      ]
    },
    {
      "cell_type": "markdown",
      "metadata": {
        "id": "n4WKtsRLHSee"
      },
      "source": [
        "# **Shift**"
      ]
    },
    {
      "cell_type": "code",
      "metadata": {
        "colab": {
          "base_uri": "https://localhost:8080/",
          "height": 244
        },
        "id": "drFIEAp_GSsw",
        "outputId": "8fe975c5-26ba-44f4-ae32-980e29668a23"
      },
      "source": [
        "img = train_images[0]\r\n",
        "\r\n",
        "img_shifted = [ tf.keras.preprocessing.image.random_shift(\r\n",
        "    img, \r\n",
        "    wrg=0.1, \r\n",
        "    hrg=0.2, \r\n",
        "    row_axis=0, \r\n",
        "    col_axis=1, \r\n",
        "    channel_axis=2, \r\n",
        "    fill_mode='constant',\r\n",
        "    cval=0\r\n",
        ") for _ in range(5) ]\r\n",
        "plot_images(img_shifted)"
      ],
      "execution_count": null,
      "outputs": [
        {
          "output_type": "display_data",
          "data": {
            "image/png": "[encoded data removed]",
            "text/plain": [
              "<Figure size 1440x576 with 5 Axes>"
            ]
          },
          "metadata": {
            "tags": []
          }
        }
      ]
    },
    {
      "cell_type": "markdown",
      "metadata": {
        "id": "pGDoYE4BqWHM"
      },
      "source": [
        "# **Shear**"
      ]
    },
    {
      "cell_type": "code",
      "metadata": {
        "colab": {
          "base_uri": "https://localhost:8080/",
          "height": 244
        },
        "id": "s9QkykaKliOt",
        "outputId": "bfb56416-dfc9-43e7-da88-3ab7f9346faf"
      },
      "source": [
        "img= train_images[0]\r\n",
        "\r\n",
        "img_sheared = [ tf.keras.preprocessing.image.random_shear(\r\n",
        "    img,\r\n",
        "    intensity=40,\r\n",
        "    row_axis=0,\r\n",
        "    col_axis=1,\r\n",
        "    channel_axis=2,\r\n",
        "    fill_mode='constant',\r\n",
        "    cval=0\r\n",
        ") for _ in range(5) ]\r\n",
        "plot_images(img_sheared, figsize=(20,16))"
      ],
      "execution_count": null,
      "outputs": [
        {
          "output_type": "display_data",
          "data": {
            "image/png": "[encoded data removed]",
            "text/plain": [
              "<Figure size 1440x1152 with 5 Axes>"
            ]
          },
          "metadata": {
            "tags": []
          }
        }
      ]
    },
    {
      "cell_type": "markdown",
      "metadata": {
        "id": "iNaUz1HDrJSg"
      },
      "source": [
        "# **ZOOM**"
      ]
    },
    {
      "cell_type": "code",
      "metadata": {
        "colab": {
          "base_uri": "https://localhost:8080/",
          "height": 244
        },
        "id": "XgHvn8z4pN8P",
        "outputId": "46615735-4736-47e4-a325-034a26973187"
      },
      "source": [
        "img_zoomed = [ tf.keras.preprocessing.image.random_zoom(\r\n",
        "    img,\r\n",
        "    zoom_range=(0.7,1.3),\r\n",
        "    row_axis=0,\r\n",
        "    col_axis=1,\r\n",
        "    channel_axis=2,\r\n",
        "    fill_mode='constant',\r\n",
        "    cval=0\r\n",
        ") for _ in range(5) ]\r\n",
        "plot_images(img_zoomed)"
      ],
      "execution_count": null,
      "outputs": [
        {
          "output_type": "display_data",
          "data": {
            "image/png": "[encoded data removed]",
            "text/plain": [
              "<Figure size 1440x576 with 5 Axes>"
            ]
          },
          "metadata": {
            "tags": []
          }
        }
      ]
    },
    {
      "cell_type": "code",
      "metadata": {
        "id": "yDN7AlDQqRRu"
      },
      "source": [
        "\r\n",
        "# x: Input tensor. Must be 3D.\r\n",
        "# intensity: Transformation intensity in degrees.\r\n",
        "# row_axis: Index of axis for rows in the input tensor.\r\n",
        "# col_axis: Index of axis for columns in the input tensor.\r\n",
        "# channel_axis: Index of axis for channels in the input tensor.\r\n",
        "# fill_mode: Points outside the boundaries of the input are filled according to the given mode (one of {'constant', 'nearest', 'reflect', 'wrap'}).\r\n",
        "# cval: Value used for points outside the boundaries of the input if mode='constant'."
      ],
      "execution_count": null,
      "outputs": []
    },
    {
      "cell_type": "code",
      "metadata": {
        "colab": {
          "base_uri": "https://localhost:8080/"
        },
        "id": "OQLGqvRcBZO2",
        "outputId": "d3f5facc-810f-40f5-b347-89188e2ae07f"
      },
      "source": [
        "pip install wandb"
      ],
      "execution_count": null,
      "outputs": [
        {
          "output_type": "stream",
          "text": [
            "Collecting wandb\n",
            "\u001b[?25l  Downloading https://files.pythonhosted.org/packages/ca/5e/9df94df3bfee51b92b54a5e6fa277d6e1fcdf1f27b1872214b98f55ec0f7/wandb-0.10.12-py2.py3-none-any.whl (1.8MB)\n",
            "\u001b[K     |████████████████████████████████| 1.8MB 8.9MB/s \n",
            "\u001b[?25hRequirement already satisfied: six>=1.13.0 in /usr/local/lib/python3.6/dist-packages (from wandb) (1.15.0)\n",
            "Collecting docker-pycreds>=0.4.0\n",
            "  Downloading https://files.pythonhosted.org/packages/f5/e8/f6bd1eee09314e7e6dee49cbe2c5e22314ccdb38db16c9fc72d2fa80d054/docker_pycreds-0.4.0-py2.py3-none-any.whl\n",
            "Requirement already satisfied: psutil>=5.0.0 in /usr/local/lib/python3.6/dist-packages (from wandb) (5.4.8)\n",
            "Requirement already satisfied: python-dateutil>=2.6.1 in /usr/local/lib/python3.6/dist-packages (from wandb) (2.8.1)\n",
            "Collecting subprocess32>=3.5.3\n",
            "\u001b[?25l  Downloading https://files.pythonhosted.org/packages/32/c8/564be4d12629b912ea431f1a50eb8b3b9d00f1a0b1ceff17f266be190007/subprocess32-3.5.4.tar.gz (97kB)\n",
            "\u001b[K     |████████████████████████████████| 102kB 9.8MB/s \n",
            "\u001b[?25hCollecting configparser>=3.8.1\n",
            "  Downloading https://files.pythonhosted.org/packages/08/b2/ef713e0e67f6e7ec7d59aea3ee78d05b39c15930057e724cc6d362a8c3bb/configparser-5.0.1-py3-none-any.whl\n",
            "Collecting GitPython>=1.0.0\n",
            "\u001b[?25l  Downloading https://files.pythonhosted.org/packages/24/d1/a7f8fe3df258549b303415157328bfcc63e9b11d06a7ad7a3327f3d32606/GitPython-3.1.11-py3-none-any.whl (159kB)\n",
            "\u001b[K     |████████████████████████████████| 163kB 19.3MB/s \n",
            "\u001b[?25hRequirement already satisfied: promise<3,>=2.0 in /usr/local/lib/python3.6/dist-packages (from wandb) (2.3)\n",
            "Requirement already satisfied: protobuf>=3.12.0 in /usr/local/lib/python3.6/dist-packages (from wandb) (3.12.4)\n",
            "Requirement already satisfied: requests<3,>=2.0.0 in /usr/local/lib/python3.6/dist-packages (from wandb) (2.23.0)\n",
            "Collecting watchdog>=0.8.3\n",
            "\u001b[?25l  Downloading https://files.pythonhosted.org/packages/e6/76/39d123d37908a772b6a281d85fbb4384d9db7e13d19d10ad409006bd2962/watchdog-1.0.1.tar.gz (97kB)\n",
            "\u001b[K     |████████████████████████████████| 102kB 9.7MB/s \n",
            "\u001b[?25hRequirement already satisfied: PyYAML in /usr/local/lib/python3.6/dist-packages (from wandb) (3.13)\n",
            "Collecting sentry-sdk>=0.4.0\n",
            "\u001b[?25l  Downloading https://files.pythonhosted.org/packages/b1/5c/018bf9a5c24343a664deaea70e61f33f53bb1bd3caf193110f827bfd07e2/sentry_sdk-0.19.5-py2.py3-none-any.whl (128kB)\n",
            "\u001b[K     |████████████████████████████████| 133kB 24.1MB/s \n",
            "\u001b[?25hCollecting shortuuid>=0.5.0\n",
            "  Downloading https://files.pythonhosted.org/packages/25/a6/2ecc1daa6a304e7f1b216f0896b26156b78e7c38e1211e9b798b4716c53d/shortuuid-1.0.1-py3-none-any.whl\n",
            "Requirement already satisfied: Click>=7.0 in /usr/local/lib/python3.6/dist-packages (from wandb) (7.1.2)\n",
            "Collecting gitdb<5,>=4.0.1\n",
            "\u001b[?25l  Downloading https://files.pythonhosted.org/packages/48/11/d1800bca0a3bae820b84b7d813ad1eff15a48a64caea9c823fc8c1b119e8/gitdb-4.0.5-py3-none-any.whl (63kB)\n",
            "\u001b[K     |████████████████████████████████| 71kB 9.7MB/s \n",
            "\u001b[?25hRequirement already satisfied: setuptools in /usr/local/lib/python3.6/dist-packages (from protobuf>=3.12.0->wandb) (50.3.2)\n",
            "Requirement already satisfied: idna<3,>=2.5 in /usr/local/lib/python3.6/dist-packages (from requests<3,>=2.0.0->wandb) (2.10)\n",
            "Requirement already satisfied: chardet<4,>=3.0.2 in /usr/local/lib/python3.6/dist-packages (from requests<3,>=2.0.0->wandb) (3.0.4)\n",
            "Requirement already satisfied: certifi>=2017.4.17 in /usr/local/lib/python3.6/dist-packages (from requests<3,>=2.0.0->wandb) (2020.12.5)\n",
            "Requirement already satisfied: urllib3!=1.25.0,!=1.25.1,<1.26,>=1.21.1 in /usr/local/lib/python3.6/dist-packages (from requests<3,>=2.0.0->wandb) (1.24.3)\n",
            "Collecting smmap<4,>=3.0.1\n",
            "  Downloading https://files.pythonhosted.org/packages/b0/9a/4d409a6234eb940e6a78dfdfc66156e7522262f5f2fecca07dc55915952d/smmap-3.0.4-py2.py3-none-any.whl\n",
            "Building wheels for collected packages: subprocess32, watchdog\n",
            "  Building wheel for subprocess32 (setup.py) ... \u001b[?25l\u001b[?25hdone\n",
            "  Created wheel for subprocess32: filename=subprocess32-3.5.4-cp36-none-any.whl size=6489 sha256=19ec11640f2faf48fcdfd8399334c895e6981c60b27c8f952c1e790cd2cec2c5\n",
            "  Stored in directory: /root/.cache/pip/wheels/68/39/1a/5e402bdfdf004af1786c8b853fd92f8c4a04f22aad179654d1\n",
            "  Building wheel for watchdog (setup.py) ... \u001b[?25l\u001b[?25hdone\n",
            "  Created wheel for watchdog: filename=watchdog-1.0.1-cp36-none-any.whl size=72206 sha256=741a891a748da927a9d204f509d9047dffa4163d71235d725c1cff928933b34f\n",
            "  Stored in directory: /root/.cache/pip/wheels/d8/ce/d8/31a48288b5728794feda5ac479fa324cc1cde4398c29eff064\n",
            "Successfully built subprocess32 watchdog\n",
            "Installing collected packages: docker-pycreds, subprocess32, configparser, smmap, gitdb, GitPython, watchdog, sentry-sdk, shortuuid, wandb\n",
            "Successfully installed GitPython-3.1.11 configparser-5.0.1 docker-pycreds-0.4.0 gitdb-4.0.5 sentry-sdk-0.19.5 shortuuid-1.0.1 smmap-3.0.4 subprocess32-3.5.4 wandb-0.10.12 watchdog-1.0.1\n"
          ],
          "name": "stdout"
        }
      ]
    },
    {
      "cell_type": "code",
      "metadata": {
        "id": "bhWj3U3zp_fR"
      },
      "source": [
        "import wandb\r\n",
        "from wandb.keras import WandbCallback"
      ],
      "execution_count": null,
      "outputs": []
    },
    {
      "cell_type": "code",
      "metadata": {
        "id": "nNQ3m0W-jrRB"
      },
      "source": [
        "# Reshaping and encoding of train and test data\r\n",
        "train_images, train_labels, test_images, test_labels = reshape_encode()\r\n",
        "\r\n",
        "# prepare pixel data\r\n",
        "train_images, test_images = prep_pixels(train_images, test_images)"
      ],
      "execution_count": null,
      "outputs": []
    },
    {
      "cell_type": "code",
      "metadata": {
        "id": "-Vj6foohmEvF"
      },
      "source": [
        "# featurewise_center=False,  # set input mean to 0 over the dataset\r\n",
        "# samplewise_center=False,  # set each sample mean to 0\r\n",
        "# featurewise_std_normalization=False,  # divide inputs by std of the dataset\r\n",
        "# samplewise_std_normalization=False,  # divide each input by its std\r\n",
        "# zca_whitening=False,  # apply ZCA whitening\r\n",
        "\r\n",
        "# shear_range=0.5,\r\n",
        "# zoom_range=(0.9, 1.1),\r\n",
        "# rotation_range=20,  # randomly rotate images in the range (degrees, 0 to 180)\r\n",
        "# width_shift_range=0.1,  # randomly shift images horizontally (fraction of total width)\r\n",
        "# height_shift_range=0.1,  # randomly shift images vertically (fraction of total height)\r\n",
        "# horizontal_flip=True,  # randomly flip images\r\n",
        "# vertical_flip=False,  # randomly flip images\r\n",
        "\r\n",
        "\r\n",
        "datagen = ImageDataGenerator(\r\n",
        "        # width_shift_range=0.1,\r\n",
        "        # height_shift_range=0.1,\r\n",
        "        # zoom_range=(0.9, 1.1),\r\n",
        "        # shear_range=40,\r\n",
        "        rotation_range=100,  \r\n",
        "        horizontal_flip=True,\r\n",
        "        vertical_flip=True, \r\n",
        "        fill_mode='constant',\r\n",
        "        cval=0\r\n",
        ")\r\n",
        "\r\n",
        "datagen.fit(train_images)\r\n",
        "\r\n",
        "# batches = 0\r\n",
        "# max_batches = 100\r\n",
        "# img_gen = []\r\n",
        "# i=0;\r\n",
        "# for x_batch in gen.flow(train_images, batch_size=max_batches):\r\n",
        "#     img_gen.append(x_batch[batches])\r\n",
        "#     batches += 1\r\n",
        "#     if batches >= max_batches:\r\n",
        "#         # generator loops indefinetly\r\n",
        "#         break"
      ],
      "execution_count": null,
      "outputs": []
    },
    {
      "cell_type": "code",
      "metadata": {
        "colab": {
          "base_uri": "https://localhost:8080/",
          "height": 1000,
          "referenced_widgets": [
            "1bf67519e18f472abeec16840430cc6c",
            "a17cf5a0999f43cb9b44899205764025",
            "7f78bfe34e0440828fd172fc852a43ab",
            "209c788722bd4edd9923a7093d75d897",
            "148cca43119b44f7b8d9fc64d5f3868b",
            "07a280f1103c407bb1bd4c89b24c4f7d",
            "fae69fa8da20409d874a1f0fc58fce61",
            "4ae1fdbd8d3d4f53954f666564715ab2"
          ]
        },
        "id": "AgoIJ2xiDZXG",
        "outputId": "be2514cc-f2fd-46bd-f4ed-2292449c6ca4"
      },
      "source": [
        "tf.config.batch_size = 256\r\n",
        "tf.config.epochs=60\r\n",
        "wandb.init()\r\n",
        "\r\n",
        "final_model=getModel()\r\n",
        "\r\n",
        "final_model.fit_generator(datagen.flow(train_images, train_labels, batch_size=tf.config.batch_size),\r\n",
        "                        steps_per_epoch=train_images.shape[0] // tf.config.batch_size,\r\n",
        "                        epochs=tf.config.epochs,\r\n",
        "                        validation_data=(test_images, test_labels),\r\n",
        "                        callbacks=[WandbCallback()]\r\n",
        ")"
      ],
      "execution_count": null,
      "outputs": [
        {
          "output_type": "display_data",
          "data": {
            "text/html": [
              "Finishing last run (ID:3ow833jx) before initializing another..."
            ],
            "text/plain": [
              "<IPython.core.display.HTML object>"
            ]
          },
          "metadata": {
            "tags": []
          }
        },
        {
          "output_type": "display_data",
          "data": {
            "text/html": [
              "<br/>Waiting for W&B process to finish, PID 366<br/>Program ended successfully."
            ],
            "text/plain": [
              "<IPython.core.display.HTML object>"
            ]
          },
          "metadata": {
            "tags": []
          }
        },
        {
          "output_type": "display_data",
          "data": {
            "application/vnd.jupyter.widget-view+json": {
              "model_id": "1bf67519e18f472abeec16840430cc6c",
              "version_minor": 0,
              "version_major": 2
            },
            "text/plain": [
              "VBox(children=(Label(value=' 4.54MB of 4.54MB uploaded (0.00MB deduped)\\r'), FloatProgress(value=1.0, max=1.0)…"
            ]
          },
          "metadata": {
            "tags": []
          }
        },
        {
          "output_type": "display_data",
          "data": {
            "text/html": [
              "Find user logs for this run at: <code>/content/wandb/run-20201214_235942-3ow833jx/logs/debug.log</code>"
            ],
            "text/plain": [
              "<IPython.core.display.HTML object>"
            ]
          },
          "metadata": {
            "tags": []
          }
        },
        {
          "output_type": "display_data",
          "data": {
            "text/html": [
              "Find internal logs for this run at: <code>/content/wandb/run-20201214_235942-3ow833jx/logs/debug-internal.log</code>"
            ],
            "text/plain": [
              "<IPython.core.display.HTML object>"
            ]
          },
          "metadata": {
            "tags": []
          }
        },
        {
          "output_type": "display_data",
          "data": {
            "text/html": [
              "<h3>Run summary:</h3><br/><style>\n",
              "    table.wandb td:nth-child(1) { padding: 0 10px; text-align: right }\n",
              "    </style><table class=\"wandb\">\n",
              "<tr><td>epoch</td><td>24</td></tr><tr><td>loss</td><td>0.80949</td></tr><tr><td>accuracy</td><td>0.71205</td></tr><tr><td>val_loss</td><td>0.77306</td></tr><tr><td>val_accuracy</td><td>0.7243</td></tr><tr><td>_step</td><td>24</td></tr><tr><td>_runtime</td><td>300</td></tr><tr><td>_timestamp</td><td>1607990682</td></tr><tr><td>best_val_loss</td><td>0.7692</td></tr><tr><td>best_epoch</td><td>23</td></tr></table>"
            ],
            "text/plain": [
              "<IPython.core.display.HTML object>"
            ]
          },
          "metadata": {
            "tags": []
          }
        },
        {
          "output_type": "display_data",
          "data": {
            "text/html": [
              "<h3>Run history:</h3><br/><style>\n",
              "    table.wandb td:nth-child(1) { padding: 0 10px; text-align: right }\n",
              "    </style><table class=\"wandb\">\n",
              "<tr><td>epoch</td><td>▁▁▂▂▂▂▃▃▃▄▄▄▅▅▅▅▆▆▆▇▇▇▇██</td></tr><tr><td>loss</td><td>█▆▅▄▄▃▃▃▃▃▂▂▂▂▂▂▂▂▁▁▁▁▁▁▁</td></tr><tr><td>accuracy</td><td>▁▃▄▅▅▆▆▆▆▇▇▇▇▇▇▇▇▇███████</td></tr><tr><td>val_loss</td><td>█▇▅▅▄▄▃▃▃▃▂▂▂▂▂▂▂▂▁▂▁▁▁▁▁</td></tr><tr><td>val_accuracy</td><td>▁▃▄▅▅▅▆▆▆▆▇▆▇▇▇▇▆▇▇▇█████</td></tr><tr><td>_step</td><td>▁▁▂▂▂▂▃▃▃▄▄▄▅▅▅▅▆▆▆▇▇▇▇██</td></tr><tr><td>_runtime</td><td>▁▁▂▂▂▂▃▃▃▄▄▄▅▅▅▅▆▆▆▇▇▇▇██</td></tr><tr><td>_timestamp</td><td>▁▁▂▂▂▂▃▃▃▄▄▄▅▅▅▅▆▆▆▇▇▇▇██</td></tr></table><br/>"
            ],
            "text/plain": [
              "<IPython.core.display.HTML object>"
            ]
          },
          "metadata": {
            "tags": []
          }
        },
        {
          "output_type": "display_data",
          "data": {
            "text/html": [
              "Synced 5 W&B file(s), 1 media file(s), 0 artifact file(s) and 1 other file(s)"
            ],
            "text/plain": [
              "<IPython.core.display.HTML object>"
            ]
          },
          "metadata": {
            "tags": []
          }
        },
        {
          "output_type": "display_data",
          "data": {
            "text/html": [
              "\n",
              "                    <br/>Synced <strong style=\"color:#cdcd00\">comfy-fire-13</strong>: <a href=\"https://wandb.ai/ahsanrao/uncategorized/runs/3ow833jx\" target=\"_blank\">https://wandb.ai/ahsanrao/uncategorized/runs/3ow833jx</a><br/>\n",
              "                "
            ],
            "text/plain": [
              "<IPython.core.display.HTML object>"
            ]
          },
          "metadata": {
            "tags": []
          }
        },
        {
          "output_type": "display_data",
          "data": {
            "text/html": [
              "...Successfully finished last run (ID:3ow833jx). Initializing new run:<br/><br/>"
            ],
            "text/plain": [
              "<IPython.core.display.HTML object>"
            ]
          },
          "metadata": {
            "tags": []
          }
        },
        {
          "output_type": "display_data",
          "data": {
            "text/html": [
              "\n",
              "                Tracking run with wandb version 0.10.12<br/>\n",
              "                Syncing run <strong style=\"color:#cdcd00\">jumping-gorge-14</strong> to <a href=\"https://wandb.ai\" target=\"_blank\">Weights & Biases</a> <a href=\"https://docs.wandb.com/integrations/jupyter.html\" target=\"_blank\">(Documentation)</a>.<br/>\n",
              "                Project page: <a href=\"https://wandb.ai/ahsanrao/uncategorized\" target=\"_blank\">https://wandb.ai/ahsanrao/uncategorized</a><br/>\n",
              "                Run page: <a href=\"https://wandb.ai/ahsanrao/uncategorized/runs/1mlh2okc\" target=\"_blank\">https://wandb.ai/ahsanrao/uncategorized/runs/1mlh2okc</a><br/>\n",
              "                Run data is saved locally in <code>/content/wandb/run-20201215_000608-1mlh2okc</code><br/><br/>\n",
              "            "
            ],
            "text/plain": [
              "<IPython.core.display.HTML object>"
            ]
          },
          "metadata": {
            "tags": []
          }
        },
        {
          "output_type": "stream",
          "text": [
            "Epoch 1/60\n",
            "234/234 [==============================] - 12s 51ms/step - loss: 1.8231 - accuracy: 0.3126 - val_loss: 1.4349 - val_accuracy: 0.4905\n",
            "Epoch 2/60\n",
            "234/234 [==============================] - 12s 50ms/step - loss: 1.4630 - accuracy: 0.4585 - val_loss: 1.3317 - val_accuracy: 0.5429\n",
            "Epoch 3/60\n",
            "234/234 [==============================] - 12s 52ms/step - loss: 1.3535 - accuracy: 0.5054 - val_loss: 1.1971 - val_accuracy: 0.5866\n",
            "Epoch 4/60\n",
            "234/234 [==============================] - 12s 53ms/step - loss: 1.2673 - accuracy: 0.5392 - val_loss: 1.1464 - val_accuracy: 0.6011\n",
            "Epoch 5/60\n",
            "234/234 [==============================] - 12s 53ms/step - loss: 1.2038 - accuracy: 0.5645 - val_loss: 1.0904 - val_accuracy: 0.6151\n",
            "Epoch 6/60\n",
            "234/234 [==============================] - 13s 54ms/step - loss: 1.1439 - accuracy: 0.5881 - val_loss: 1.0500 - val_accuracy: 0.6232\n",
            "Epoch 7/60\n",
            "234/234 [==============================] - 12s 53ms/step - loss: 1.0993 - accuracy: 0.6054 - val_loss: 1.0304 - val_accuracy: 0.6400\n",
            "Epoch 8/60\n",
            "234/234 [==============================] - 12s 53ms/step - loss: 1.0671 - accuracy: 0.6161 - val_loss: 0.9809 - val_accuracy: 0.6553\n",
            "Epoch 9/60\n",
            "234/234 [==============================] - 12s 52ms/step - loss: 1.0413 - accuracy: 0.6264 - val_loss: 0.9838 - val_accuracy: 0.6493\n",
            "Epoch 10/60\n",
            "234/234 [==============================] - 12s 51ms/step - loss: 1.0111 - accuracy: 0.6354 - val_loss: 0.9346 - val_accuracy: 0.6699\n",
            "Epoch 11/60\n",
            "234/234 [==============================] - 12s 52ms/step - loss: 0.9908 - accuracy: 0.6442 - val_loss: 0.9038 - val_accuracy: 0.6758\n",
            "Epoch 12/60\n",
            "234/234 [==============================] - 12s 52ms/step - loss: 0.9714 - accuracy: 0.6505 - val_loss: 0.9233 - val_accuracy: 0.6685\n",
            "Epoch 13/60\n",
            "234/234 [==============================] - 12s 53ms/step - loss: 0.9531 - accuracy: 0.6571 - val_loss: 0.8550 - val_accuracy: 0.6957\n",
            "Epoch 14/60\n",
            "234/234 [==============================] - 12s 51ms/step - loss: 0.9323 - accuracy: 0.6662 - val_loss: 0.8660 - val_accuracy: 0.6864\n",
            "Epoch 15/60\n",
            "234/234 [==============================] - 12s 52ms/step - loss: 0.9205 - accuracy: 0.6700 - val_loss: 0.8171 - val_accuracy: 0.7065\n",
            "Epoch 16/60\n",
            "234/234 [==============================] - 12s 52ms/step - loss: 0.9072 - accuracy: 0.6755 - val_loss: 0.8288 - val_accuracy: 0.7055\n",
            "Epoch 17/60\n",
            "234/234 [==============================] - 13s 54ms/step - loss: 0.8883 - accuracy: 0.6828 - val_loss: 0.8131 - val_accuracy: 0.7063\n",
            "Epoch 18/60\n",
            "234/234 [==============================] - 12s 52ms/step - loss: 0.8754 - accuracy: 0.6854 - val_loss: 0.8416 - val_accuracy: 0.6991\n",
            "Epoch 19/60\n",
            "234/234 [==============================] - 12s 53ms/step - loss: 0.8594 - accuracy: 0.6932 - val_loss: 0.8112 - val_accuracy: 0.7121\n",
            "Epoch 20/60\n",
            "234/234 [==============================] - 12s 52ms/step - loss: 0.8551 - accuracy: 0.6939 - val_loss: 0.7987 - val_accuracy: 0.7112\n",
            "Epoch 21/60\n",
            "234/234 [==============================] - 12s 53ms/step - loss: 0.8383 - accuracy: 0.7008 - val_loss: 0.7691 - val_accuracy: 0.7250\n",
            "Epoch 22/60\n",
            "234/234 [==============================] - 12s 52ms/step - loss: 0.8275 - accuracy: 0.7034 - val_loss: 0.7888 - val_accuracy: 0.7160\n",
            "Epoch 23/60\n",
            "234/234 [==============================] - 12s 52ms/step - loss: 0.8151 - accuracy: 0.7075 - val_loss: 0.7401 - val_accuracy: 0.7323\n",
            "Epoch 24/60\n",
            "234/234 [==============================] - 12s 52ms/step - loss: 0.8071 - accuracy: 0.7112 - val_loss: 0.7666 - val_accuracy: 0.7268\n",
            "Epoch 25/60\n",
            "234/234 [==============================] - 12s 52ms/step - loss: 0.7964 - accuracy: 0.7169 - val_loss: 0.7188 - val_accuracy: 0.7419\n",
            "Epoch 26/60\n",
            "234/234 [==============================] - 12s 53ms/step - loss: 0.7911 - accuracy: 0.7177 - val_loss: 0.7217 - val_accuracy: 0.7449\n",
            "Epoch 27/60\n",
            "234/234 [==============================] - 12s 53ms/step - loss: 0.7786 - accuracy: 0.7217 - val_loss: 0.7427 - val_accuracy: 0.7366\n",
            "Epoch 28/60\n",
            "234/234 [==============================] - 12s 52ms/step - loss: 0.7724 - accuracy: 0.7242 - val_loss: 0.7519 - val_accuracy: 0.7324\n",
            "Epoch 29/60\n",
            "234/234 [==============================] - 13s 54ms/step - loss: 0.7703 - accuracy: 0.7262 - val_loss: 0.7446 - val_accuracy: 0.7366\n",
            "Epoch 30/60\n",
            "234/234 [==============================] - 12s 53ms/step - loss: 0.7624 - accuracy: 0.7277 - val_loss: 0.6846 - val_accuracy: 0.7532\n",
            "Epoch 31/60\n",
            "234/234 [==============================] - 12s 52ms/step - loss: 0.7571 - accuracy: 0.7325 - val_loss: 0.7099 - val_accuracy: 0.7460\n",
            "Epoch 32/60\n",
            "234/234 [==============================] - 12s 53ms/step - loss: 0.7480 - accuracy: 0.7328 - val_loss: 0.7002 - val_accuracy: 0.7512\n",
            "Epoch 33/60\n",
            "234/234 [==============================] - 12s 51ms/step - loss: 0.7439 - accuracy: 0.7358 - val_loss: 0.6980 - val_accuracy: 0.7470\n",
            "Epoch 34/60\n",
            "234/234 [==============================] - 12s 52ms/step - loss: 0.7325 - accuracy: 0.7372 - val_loss: 0.7002 - val_accuracy: 0.7482\n",
            "Epoch 35/60\n",
            "234/234 [==============================] - 12s 52ms/step - loss: 0.7303 - accuracy: 0.7392 - val_loss: 0.6659 - val_accuracy: 0.7616\n",
            "Epoch 36/60\n",
            "234/234 [==============================] - 12s 52ms/step - loss: 0.7259 - accuracy: 0.7420 - val_loss: 0.7307 - val_accuracy: 0.7401\n",
            "Epoch 37/60\n",
            "234/234 [==============================] - 13s 54ms/step - loss: 0.7173 - accuracy: 0.7437 - val_loss: 0.6772 - val_accuracy: 0.7587\n",
            "Epoch 38/60\n",
            "234/234 [==============================] - 12s 53ms/step - loss: 0.7169 - accuracy: 0.7463 - val_loss: 0.6539 - val_accuracy: 0.7646\n",
            "Epoch 39/60\n",
            "234/234 [==============================] - 12s 52ms/step - loss: 0.7077 - accuracy: 0.7493 - val_loss: 0.6438 - val_accuracy: 0.7722\n",
            "Epoch 40/60\n",
            "234/234 [==============================] - 12s 53ms/step - loss: 0.6998 - accuracy: 0.7526 - val_loss: 0.6662 - val_accuracy: 0.7663\n",
            "Epoch 41/60\n",
            "234/234 [==============================] - 12s 52ms/step - loss: 0.6978 - accuracy: 0.7516 - val_loss: 0.6760 - val_accuracy: 0.7606\n",
            "Epoch 42/60\n",
            "234/234 [==============================] - 12s 52ms/step - loss: 0.6941 - accuracy: 0.7533 - val_loss: 0.6355 - val_accuracy: 0.7718\n",
            "Epoch 43/60\n",
            "234/234 [==============================] - 12s 52ms/step - loss: 0.6868 - accuracy: 0.7548 - val_loss: 0.6253 - val_accuracy: 0.7779\n",
            "Epoch 44/60\n",
            "234/234 [==============================] - 12s 53ms/step - loss: 0.6899 - accuracy: 0.7539 - val_loss: 0.6484 - val_accuracy: 0.7698\n",
            "Epoch 45/60\n",
            "234/234 [==============================] - 12s 53ms/step - loss: 0.6819 - accuracy: 0.7571 - val_loss: 0.6401 - val_accuracy: 0.7740\n",
            "Epoch 46/60\n",
            "234/234 [==============================] - 13s 53ms/step - loss: 0.6795 - accuracy: 0.7590 - val_loss: 0.6295 - val_accuracy: 0.7778\n",
            "Epoch 47/60\n",
            "234/234 [==============================] - 13s 54ms/step - loss: 0.6767 - accuracy: 0.7615 - val_loss: 0.6537 - val_accuracy: 0.7647\n",
            "Epoch 48/60\n",
            "234/234 [==============================] - 12s 52ms/step - loss: 0.6712 - accuracy: 0.7627 - val_loss: 0.6230 - val_accuracy: 0.7787\n",
            "Epoch 49/60\n",
            "234/234 [==============================] - 12s 53ms/step - loss: 0.6607 - accuracy: 0.7624 - val_loss: 0.6335 - val_accuracy: 0.7726\n",
            "Epoch 50/60\n",
            "234/234 [==============================] - 12s 53ms/step - loss: 0.6654 - accuracy: 0.7633 - val_loss: 0.6162 - val_accuracy: 0.7788\n",
            "Epoch 51/60\n",
            "234/234 [==============================] - 12s 53ms/step - loss: 0.6590 - accuracy: 0.7659 - val_loss: 0.6113 - val_accuracy: 0.7828\n",
            "Epoch 52/60\n",
            "234/234 [==============================] - 12s 52ms/step - loss: 0.6580 - accuracy: 0.7659 - val_loss: 0.6080 - val_accuracy: 0.7828\n",
            "Epoch 53/60\n",
            "234/234 [==============================] - 13s 54ms/step - loss: 0.6514 - accuracy: 0.7692 - val_loss: 0.5892 - val_accuracy: 0.7913\n",
            "Epoch 54/60\n",
            "234/234 [==============================] - 13s 55ms/step - loss: 0.6462 - accuracy: 0.7696 - val_loss: 0.6101 - val_accuracy: 0.7822\n",
            "Epoch 55/60\n",
            "234/234 [==============================] - 12s 53ms/step - loss: 0.6468 - accuracy: 0.7695 - val_loss: 0.6130 - val_accuracy: 0.7816\n",
            "Epoch 56/60\n",
            "234/234 [==============================] - 13s 54ms/step - loss: 0.6422 - accuracy: 0.7714 - val_loss: 0.5937 - val_accuracy: 0.7924\n",
            "Epoch 57/60\n",
            "234/234 [==============================] - 12s 53ms/step - loss: 0.6416 - accuracy: 0.7713 - val_loss: 0.6293 - val_accuracy: 0.7737\n",
            "Epoch 58/60\n",
            "234/234 [==============================] - 12s 53ms/step - loss: 0.6357 - accuracy: 0.7730 - val_loss: 0.6083 - val_accuracy: 0.7822\n",
            "Epoch 59/60\n",
            "234/234 [==============================] - 13s 54ms/step - loss: 0.6326 - accuracy: 0.7755 - val_loss: 0.5924 - val_accuracy: 0.7883\n",
            "Epoch 60/60\n",
            "234/234 [==============================] - 12s 53ms/step - loss: 0.6305 - accuracy: 0.7738 - val_loss: 0.5972 - val_accuracy: 0.7861\n"
          ],
          "name": "stdout"
        },
        {
          "output_type": "execute_result",
          "data": {
            "text/plain": [
              "<tensorflow.python.keras.callbacks.History at 0x7fbe83a710b8>"
            ]
          },
          "metadata": {
            "tags": []
          },
          "execution_count": 20
        }
      ]
    },
    {
      "cell_type": "code",
      "metadata": {
        "id": "JVyv1s5cHhyZ"
      },
      "source": [
        "final_model.save('/content/drive/My Drive/saved_models/fashion_cnn_final_aug.h5')"
      ],
      "execution_count": null,
      "outputs": []
    },
    {
      "cell_type": "code",
      "metadata": {
        "colab": {
          "base_uri": "https://localhost:8080/"
        },
        "id": "WYHomZ0UH749",
        "outputId": "10d0beeb-a08d-46f1-b2fc-650d85d3ced2"
      },
      "source": [
        "test_loss, test_acc = final_model.evaluate(test_images,  test_labels)\r\n",
        "\r\n",
        "print('\\nTest accuracy:', test_acc)"
      ],
      "execution_count": null,
      "outputs": [
        {
          "output_type": "stream",
          "text": [
            "313/313 [==============================] - 1s 3ms/step - loss: 0.4257 - accuracy: 0.8487\n",
            "\n",
            "Test accuracy: 0.8486999869346619\n"
          ],
          "name": "stdout"
        }
      ]
    },
    {
      "cell_type": "code",
      "metadata": {
        "colab": {
          "base_uri": "https://localhost:8080/"
        },
        "id": "og8m3zR7IEh2",
        "outputId": "bf4dc102-9088-42e2-c6d6-31abf8a9c2f5"
      },
      "source": [
        "class_names = ['T-shirt/top', 'Trouser', 'Pullover', 'Dress', 'Coat',\r\n",
        "               'Sandal', 'Shirt', 'Sneaker', 'Bag', 'Ankle boot']\r\n",
        "\r\n",
        "# print(\"Prediction:\",model.predict_classes(test_images[[13]]))\r\n",
        "print(\"Prediction:\",class_names[int(np.argmax(final_model.predict(test_images[[13]]), axis=-1))])\r\n",
        "# np.argmax(model.predict(test_images[[13]]), axis=-1)\r\n",
        "print(\"Real val:\",class_names[np.argmax(test_labels[13])])"
      ],
      "execution_count": null,
      "outputs": [
        {
          "output_type": "stream",
          "text": [
            "Prediction: Dress\n",
            "Real val: Dress\n"
          ],
          "name": "stdout"
        }
      ]
    },
    {
      "cell_type": "code",
      "metadata": {
        "colab": {
          "base_uri": "https://localhost:8080/",
          "height": 285
        },
        "id": "9bUXs15QHhob",
        "outputId": "9542bc88-8271-4345-bcfd-bff176a3daaf"
      },
      "source": [
        "prediction = final_model.predict([prepare_img(\"/content/drive/My Drive/cnn_images/trouser111-removebg-preview.png\")])\r\n",
        "\r\n",
        "print(\"Prediction: \",class_names[int(np.argmax(prediction))])"
      ],
      "execution_count": null,
      "outputs": [
        {
          "output_type": "stream",
          "text": [
            "Prediction:  Trouser\n"
          ],
          "name": "stdout"
        },
        {
          "output_type": "display_data",
          "data": {
            "image/png": "[encoded data removed]",
            "text/plain": [
              "<Figure size 432x288 with 1 Axes>"
            ]
          },
          "metadata": {
            "tags": []
          }
        }
      ]
    },
    {
      "cell_type": "code",
      "metadata": {
        "id": "k1gXfYSilo9L"
      },
      "source": [
        "    # Get training data\r\n",
        "    # x_n_samples, y_n_samples = get_random_sample(number_of_samples=samples)\r\n",
        "    # y_n_samples = to_categorical(y_n_samples)\r\n",
        "    \r\n",
        "    # Put data in generator\r\n",
        "    # train_generator_n_samples = gen.flow(train_images, \r\n",
        "    #                         train_labels, \r\n",
        "    #                         batch_size=30)\r\n",
        "    \r\n",
        "    # model_n_samples = getModel()\r\n",
        "\r\n",
        "    # hist_n_samples = model_n_samples.fit_generator(\r\n",
        "    #             train_generator_n_samples,\r\n",
        "    #             steps_per_epoch=2000,\r\n",
        "    #             epochs=15,\r\n",
        "    #             verbose=0,\r\n",
        "    #             validation_data=(test_images, test_labels),\r\n",
        "    #             shuffle=True\r\n",
        "    # )"
      ],
      "execution_count": null,
      "outputs": []
    },
    {
      "cell_type": "code",
      "metadata": {
        "id": "C6vbCPfArPaL"
      },
      "source": [
        "# datagen = ImageDataGenerator(\r\n",
        "#         rotation_range=20,\r\n",
        "#         width_shift_range=0.1,\r\n",
        "#         height_shift_range=0.1,\r\n",
        "#         shear_range=0.5,\r\n",
        "#         zoom_range=(0.9, 1.1),\r\n",
        "#         horizontal_flip=False,\r\n",
        "#         vertical_flip=False, \r\n",
        "#         fill_mode='constant',\r\n",
        "#         cval=0\r\n",
        "# )\r\n",
        "# batches = 0\r\n",
        "# max_batches = 100\r\n",
        "# img_gen = []\r\n",
        "# for x_batch in datagen.flow(img.reshape((1,) + img.shape), batch_size=max_batches):\r\n",
        "#     img_gen.append(x_batch[0])\r\n",
        "#     batches += 1\r\n",
        "#     if batches >= max_batches:\r\n",
        "#         # generator loops indefinetly\r\n",
        "#         break\r\n",
        "        \r\n",
        "# plot_images(img_gen, rows=10, figsize=(20,16))"
      ],
      "execution_count": null,
      "outputs": []
    },
    {
      "cell_type": "code",
      "metadata": {
        "id": "-ppDjbSh2L_e"
      },
      "source": [
        ""
      ],
      "execution_count": null,
      "outputs": []
    }
  ]
}